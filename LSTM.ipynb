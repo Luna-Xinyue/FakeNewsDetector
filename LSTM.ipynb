{
  "cells": [
    {
      "cell_type": "code",
      "execution_count": null,
      "metadata": {
        "id": "-WGDcLNqFzHv"
      },
      "outputs": [],
      "source": [
        "import keras\n",
        "import pandas as pd\n",
        "import numpy as np\n",
        "import sklearn\n",
        "import tensorflow as tf\n",
        "import matplotlib.pyplot as plt"
      ]
    },
    {
      "cell_type": "code",
      "execution_count": null,
      "metadata": {
        "id": "ofv3AqeSXdZd"
      },
      "outputs": [],
      "source": [
        "\n",
        "df = pd.read_csv('/content/drive/MyDrive/Colab Notebooks/fake_or_real_news.csv')\n",
        "df['merged_text'] = df['title'] + '. ' + df['text']\n",
        "df.loc[df['label'] == 'REAL', 'target'] = 0\n",
        "df.loc[df['label'] == 'FAKE', 'target'] = 1\n",
        "df.head()\n",
        "df_pick = df[['merged_text', 'target']]"
      ]
    },
    {
      "cell_type": "markdown",
      "metadata": {
        "id": "ZJExr93g4X59"
      },
      "source": [
        "1. Load data as train and test data.   \n",
        "  a. add Title to text and create final text, label ordered pair.  \n",
        "  b. Split 80-20 into train and test datasets."
      ]
    },
    {
      "cell_type": "code",
      "execution_count": null,
      "metadata": {
        "colab": {
          "base_uri": "https://localhost:8080/"
        },
        "id": "lp4-B9o_6rPW",
        "outputId": "b2d5e96c-113a-488f-f9ec-dc3ed8d3bc71"
      },
      "outputs": [
        {
          "name": "stdout",
          "output_type": "stream",
          "text": [
            "(5068, 2)\n",
            "(1267, 2)\n"
          ]
        }
      ],
      "source": [
        "training_data = df_pick.sample(frac=0.8, random_state=25)\n",
        "testing_data = df_pick.drop(training_data.index)\n",
        "\n",
        "print(training_data.shape)\n",
        "print(testing_data.shape)"
      ]
    },
    {
      "cell_type": "code",
      "execution_count": null,
      "metadata": {
        "id": "npoLaaKP4tWF"
      },
      "outputs": [],
      "source": [
        "training_dataset = (\n",
        "    tf.data.Dataset.from_tensor_slices(\n",
        "        (\n",
        "            tf.cast(training_data['merged_text'].values, tf.string),\n",
        "            tf.cast(training_data['target'].values, tf.int32)\n",
        "        )\n",
        "    )\n",
        ")\n",
        "\n",
        "test_dataset = (\n",
        "    tf.data.Dataset.from_tensor_slices(\n",
        "        (\n",
        "            tf.cast(testing_data['merged_text'].values, tf.string),\n",
        "            tf.cast(testing_data['target'].values, tf.int32)\n",
        "        )\n",
        "    )\n",
        ")\n",
        "BUFFER_SIZE = 10000\n",
        "BATCH_SIZE = 4\n",
        "training_dataset = training_dataset.shuffle(BUFFER_SIZE).batch(BATCH_SIZE).prefetch(tf.data.AUTOTUNE)\n",
        "test_dataset = test_dataset.batch(BATCH_SIZE).prefetch(tf.data.AUTOTUNE)"
      ]
    },
    {
      "cell_type": "code",
      "execution_count": null,
      "metadata": {
        "colab": {
          "base_uri": "https://localhost:8080/"
        },
        "id": "4fiwWQ21AaWN",
        "outputId": "aadf6bd4-1766-4eb5-aafe-63009480640f"
      },
      "outputs": [
        {
          "name": "stdout",
          "output_type": "stream",
          "text": [
            "texts:  [b'Knesset Speaker asks Vatican to join battle against UNESCO\\xe2\\x80\\x99s denial of history. October 26, 2016 Knesset Speaker asks Vatican to join battle against UNESCO\\xe2\\x80\\x99s denial of history \\nThe resolution, the Speaker wrote, \\xe2\\x80\\x9cis an assault on history and is deeply offensive to both Christianity and Judaism. The denial of the historicity of the two Jerusalem Temples and the Temple Mount as recounted in both the Old and New Testaments is a terrible indictment of the international community when repeatedly adopted by an important UN body. \\n\\xe2\\x80\\x9cThe outrageous repudiation of the millennia-old bond between Judaism and its holiest shrines in Jerusalem is a blatant attempt to rewrite history,\\xe2\\x80\\x9d he added. \\xe2\\x80\\x9cThe annals of both our religions cannot be erased by raised hands and counted votes.\\xe2\\x80\\x9d \\nEdelstein said the time has come for the international community to pass a resolution reaffirming Jerusalem as the holy city for the three major monotheistic religions, \\xe2\\x80\\x9ca city where the two Temples stood and from which the Word of G-d was first promulgated to humanity by our prophets.\\xe2\\x80\\x9d \\nEducation Minister Naftali Bennett called UNESCO\\xe2\\x80\\x99s decision \\xe2\\x80\\x9ca denial of history, and history will erase the embarrassing decision.'\n",
            " b'This astonishing chart shows how moderate Republicans are an endangered species. Political scientists have known for years that political polarization is largely a one-sided phenomenon: in recent decades the Republican Party\\xc2\\xa0has moved to the right much faster than Democrats have moved to the left. As Thomas Mann of the Brookings Institution has described it, \"Republicans have become a radical insurgency\\xe2\\x80\\x94ideologically extreme, contemptuous of the inherited policy regime, scornful of compromise, unpersuaded by conventional understanding of facts, evidence, and science; and dismissive of the legitimacy of their political opposition.\"\\n\\nThe data backing this claim up are pretty solid. The most widely-used measure of political polarization, a score of ideology based on voting developed by Kenneth Poole and Howard Rosenthal, has shown that the Republicans in the Senate and especially the House have drifted away from the center far more rapidly than Democrats. The chart below, taken from the most recent slice of their data released just last month, illustrate this pretty clearly:\\n\\nRight around 1975, the Republican party sharply turned away from the center line and hasn\\'t looked back. The Democrats have been drifting away from the center too, but nowhere near as quickly.\\n\\nEvery once in awhile an op-ed writer will come along and make a qualitative argument along the lines of \"no, really, it\\'s the\\xc2\\xa0Democrats who are polarizing!\" Peter Wehner, a former official in three previous Republican presidential administrations, did just that in the pages of the New York Times last week. His argument amounts to the notion that since President\\xc2\\xa0Obama has pursued some policies that are more liberal than Bill Clinton\\'s,\\xc2\\xa0\"the Democratic Party has moved substantially further to the left than the Republican Party has shifted to the right.\"\\n\\nWell, no -- just look at the chart above! Here\\'s another way of looking at it: How many moderates are in each party? Here\\'s another interesting chart from the Poole-Rosenthal data, showing the number of House members in each party who are\\xc2\\xa0not\\xc2\\xa0centrists -- that is, whose ideological scores put them on the more extreme ends of the partisan scale.\\n\\nAs you can see, in the most recent Congress nearly 90 percent of Republican House members are\\xc2\\xa0not politically moderate. By contrast, 90 percent of Democratic members\\xc2\\xa0are moderates. It\\'s quite difficult to square a chart like this with a claim that Democrats are abandoning the center faster than Republicans. As the chart shows, there are plenty of centrist Democrats left in the House -- but hardly any centrist Republicans.\\n\\nIt\\'s worth pointing out that none of this is happening in a vacuum -- House Republicans are become more extreme because Republican voters are electing more extreme candidates. We see many of these same patterns playing out among the electorate as well, as a massive Pew Research Study demonstrated last year.'\n",
            " b'Like a good little sharia-compliant female, Prince Charles\\xe2\\x80\\x99 wife Camilla removes her shoes to enter a mosque in Abu Dhabi, but the Prince of Wales keeps his shoes on. BNI Store Nov 6 2016 Like a good little sharia-compliant female, Prince Charles\\xe2\\x80\\x99 wife Camilla removes her shoes to enter a mosque in Abu Dhabi, but the Prince of Wales keeps his shoes on The Prince of Wales and Duchess of Cornwall have visited the spectacular Sheikh Zaved Grand Mosque to promote religious tolerance. ( HAH! ) UK Daily Mail Charles was dressed in a linen suit and striped tie, while Camilla wore a blue headscarf, long jacket and trousers. Visitors to the mosque must remove their footwear, BUT Charles walked round in black shoes while his wife went barefoot with her head covered. The mosque was established in 2008 and sits at the entrance to Abu Dhabi City Island. It aims to work with research centres and religious, educational and cultural institutions within the United Arab Emirates and across the world.']\n",
            "\n",
            "labels:  [1 0 1]\n"
          ]
        }
      ],
      "source": [
        "for example, label in training_dataset.take(1):\n",
        "  print('texts: ', example.numpy()[:3])\n",
        "  print()\n",
        "  print('labels: ', label.numpy()[:3])"
      ]
    },
    {
      "cell_type": "code",
      "execution_count": null,
      "metadata": {
        "id": "lAJTRJhHAsPe"
      },
      "outputs": [],
      "source": [
        "VOCAB_SIZE = 1000\n",
        "encoder = tf.keras.layers.TextVectorization(\n",
        "    max_tokens=VOCAB_SIZE)\n",
        "encoder.adapt(training_dataset.map(lambda text, label: text))"
      ]
    },
    {
      "cell_type": "code",
      "execution_count": null,
      "metadata": {
        "colab": {
          "base_uri": "https://localhost:8080/"
        },
        "id": "mVJxYguQA1v5",
        "outputId": "6d09aa12-53b6-4704-b474-2b1713ad1ffb"
      },
      "outputs": [
        {
          "data": {
            "text/plain": [
              "array(['', '[UNK]', 'the', 'to', 'of', 'and', 'a', 'in', 'that', 'is',\n",
              "       'for', 'on', 'as', 'it', 'with', 'he', 'was', 'are', 'be', 'this'],\n",
              "      dtype='<U14')"
            ]
          },
          "execution_count": 11,
          "metadata": {},
          "output_type": "execute_result"
        }
      ],
      "source": [
        "vocab = np.array(encoder.get_vocabulary())\n",
        "vocab[:20]"
      ]
    },
    {
      "cell_type": "code",
      "execution_count": null,
      "metadata": {
        "colab": {
          "base_uri": "https://localhost:8080/"
        },
        "id": "9Ryr3zYwA-Bv",
        "outputId": "46db1361-806b-4d5a-cdf1-41f884688f24"
      },
      "outputs": [
        {
          "data": {
            "text/plain": [
              "array([[  1, 740,   1, ...,   0,   0,   0],\n",
              "       [ 19,   1,   1, ...,   1, 115, 155],\n",
              "       [ 77,   6, 196, ...,   0,   0,   0]])"
            ]
          },
          "execution_count": 12,
          "metadata": {},
          "output_type": "execute_result"
        }
      ],
      "source": [
        "encoded_example = encoder(example)[:3].numpy()\n",
        "encoded_example"
      ]
    },
    {
      "cell_type": "code",
      "execution_count": null,
      "metadata": {
        "id": "z0deinp1BSHQ"
      },
      "outputs": [],
      "source": [
        "model = tf.keras.Sequential([\n",
        "    encoder,\n",
        "    tf.keras.layers.Embedding(\n",
        "        input_dim=len(encoder.get_vocabulary()),\n",
        "        output_dim=64,\n",
        "        # Use masking to handle the variable sequence lengths\n",
        "        mask_zero=True),\n",
        "    tf.keras.layers.LSTM(64),\n",
        "    tf.keras.layers.Dense(64, activation='relu'),\n",
        "    tf.keras.layers.Dense(1)\n",
        "])"
      ]
    },
    {
      "cell_type": "code",
      "execution_count": null,
      "metadata": {
        "colab": {
          "base_uri": "https://localhost:8080/"
        },
        "id": "Rf8QaT5SB30N",
        "outputId": "541cbbcc-b2df-4a5f-f46d-b8fed6269a53"
      },
      "outputs": [
        {
          "name": "stdout",
          "output_type": "stream",
          "text": [
            "[0.00364072]\n"
          ]
        }
      ],
      "source": [
        "sample_text = ('The movie was cool. The animation and the graphics '\n",
        "               'were out of this world. I would recommend this movie.')\n",
        "predictions = model.predict(np.array([sample_text]))\n",
        "print(predictions[0])"
      ]
    },
    {
      "cell_type": "code",
      "execution_count": null,
      "metadata": {
        "id": "LQbcOnB-CN4l"
      },
      "outputs": [],
      "source": [
        "model.compile(loss=tf.keras.losses.BinaryCrossentropy(from_logits=True),\n",
        "              optimizer=tf.keras.optimizers.Adam(1e-4),\n",
        "              metrics=['accuracy'])"
      ]
    },
    {
      "cell_type": "code",
      "execution_count": null,
      "metadata": {
        "colab": {
          "background_save": true,
          "base_uri": "https://localhost:8080/"
        },
        "id": "YBnAO6vlCovd",
        "outputId": "b65eb1a2-370f-4b3f-e12b-e71df9b91482"
      },
      "outputs": [
        {
          "name": "stdout",
          "output_type": "stream",
          "text": [
            "1267/1267 [==============================] - 1494s 1s/step - loss: 0.5949 - accuracy: 0.6579 - val_loss: 0.1406 - val_accuracy: 1.0000\n"
          ]
        }
      ],
      "source": [
        "history = model.fit(training_dataset, epochs=1,\n",
        "                    validation_data=test_dataset,\n",
        "                    validation_steps=1)"
      ]
    },
    {
      "cell_type": "code",
      "execution_count": 19,
      "metadata": {
        "id": "dAy-GDRDttDw"
      },
      "outputs": [],
      "source": [
        "def plot_graphs(history, metric):\n",
        "  plt.plot(history.history[metric])\n",
        "  plt.plot(history.history['val_'+metric], '')\n",
        "  plt.xlabel(\"Epochs\")\n",
        "  plt.ylabel(metric)\n",
        "  plt.legend([metric, 'val_'+metric])"
      ]
    },
    {
      "cell_type": "code",
      "execution_count": 20,
      "metadata": {
        "colab": {
          "base_uri": "https://localhost:8080/",
          "height": 519
        },
        "id": "yovG7KvLtkXy",
        "outputId": "9f2766d9-fbe8-4022-a83b-68e56904564c"
      },
      "outputs": [
        {
          "output_type": "execute_result",
          "data": {
            "text/plain": [
              "(0.0, 0.6176637299358845)"
            ]
          },
          "metadata": {},
          "execution_count": 20
        },
        {
          "output_type": "display_data",
          "data": {
            "text/plain": [
              "<Figure size 1152x576 with 2 Axes>"
            ],
            "image/png": "[encoded data removed]"
          },
          "metadata": {
            "needs_background": "light"
          }
        }
      ],
      "source": [
        "plt.figure(figsize=(16, 8))\n",
        "plt.subplot(1, 2, 1)\n",
        "plot_graphs(history, 'accuracy')\n",
        "plt.ylim(None, 1)\n",
        "plt.subplot(1, 2, 2)\n",
        "plot_graphs(history, 'loss')\n",
        "plt.ylim(0, None)"
      ]
    }
  ],
  "metadata": {
    "colab": {
      "name": "ML-Fake_news_classifier.ipynb",
      "provenance": []
    },
    "kernelspec": {
      "display_name": "Python 3",
      "name": "python3"
    },
    "language_info": {
      "name": "python"
    }
  },
  "nbformat": 4,
  "nbformat_minor": 0
}