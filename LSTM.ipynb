{
 "cells": [
  {
   "cell_type": "code",
   "execution_count": 1,
   "metadata": {
    "id": "-WGDcLNqFzHv"
   },
   "outputs": [],
   "source": [
    "import keras\n",
    "import pandas as pd\n",
    "import numpy as np\n",
    "import sklearn\n",
    "import tensorflow as tf\n",
    "import matplotlib.pyplot as plt\n",
    "from unicodedata import normalize as unicodeNormalize"
   ]
  },
  {
   "cell_type": "code",
   "execution_count": 2,
   "metadata": {
    "id": "ofv3AqeSXdZd"
   },
   "outputs": [
    {
     "data": {
      "text/html": [
       "<div>\n",
       "<style scoped>\n",
       "    .dataframe tbody tr th:only-of-type {\n",
       "        vertical-align: middle;\n",
       "    }\n",
       "\n",
       "    .dataframe tbody tr th {\n",
       "        vertical-align: top;\n",
       "    }\n",
       "\n",
       "    .dataframe thead th {\n",
       "        text-align: right;\n",
       "    }\n",
       "</style>\n",
       "<table border=\"1\" class=\"dataframe\">\n",
       "  <thead>\n",
       "    <tr style=\"text-align: right;\">\n",
       "      <th></th>\n",
       "      <th>Unnamed: 0</th>\n",
       "      <th>title</th>\n",
       "      <th>text</th>\n",
       "      <th>label</th>\n",
       "      <th>merged_text</th>\n",
       "      <th>target</th>\n",
       "    </tr>\n",
       "  </thead>\n",
       "  <tbody>\n",
       "    <tr>\n",
       "      <th>0</th>\n",
       "      <td>8476</td>\n",
       "      <td>You Can Smell Hillary’s Fear</td>\n",
       "      <td>Daniel Greenfield, a Shillman Journalism Fello...</td>\n",
       "      <td>FAKE</td>\n",
       "      <td>You Can Smell Hillary’s Fear. Daniel Greenfiel...</td>\n",
       "      <td>1.0</td>\n",
       "    </tr>\n",
       "    <tr>\n",
       "      <th>1</th>\n",
       "      <td>10294</td>\n",
       "      <td>Watch The Exact Moment Paul Ryan Committed Pol...</td>\n",
       "      <td>Google Pinterest Digg Linkedin Reddit Stumbleu...</td>\n",
       "      <td>FAKE</td>\n",
       "      <td>Watch The Exact Moment Paul Ryan Committed Pol...</td>\n",
       "      <td>1.0</td>\n",
       "    </tr>\n",
       "    <tr>\n",
       "      <th>2</th>\n",
       "      <td>3608</td>\n",
       "      <td>Kerry to go to Paris in gesture of sympathy</td>\n",
       "      <td>U.S. Secretary of State John F. Kerry said Mon...</td>\n",
       "      <td>REAL</td>\n",
       "      <td>Kerry to go to Paris in gesture of sympathy. U...</td>\n",
       "      <td>0.0</td>\n",
       "    </tr>\n",
       "    <tr>\n",
       "      <th>3</th>\n",
       "      <td>10142</td>\n",
       "      <td>Bernie supporters on Twitter erupt in anger ag...</td>\n",
       "      <td>— Kaydee King (@KaydeeKing) November 9, 2016 T...</td>\n",
       "      <td>FAKE</td>\n",
       "      <td>Bernie supporters on Twitter erupt in anger ag...</td>\n",
       "      <td>1.0</td>\n",
       "    </tr>\n",
       "    <tr>\n",
       "      <th>4</th>\n",
       "      <td>875</td>\n",
       "      <td>The Battle of New York: Why This Primary Matters</td>\n",
       "      <td>It's primary day in New York and front-runners...</td>\n",
       "      <td>REAL</td>\n",
       "      <td>The Battle of New York: Why This Primary Matte...</td>\n",
       "      <td>0.0</td>\n",
       "    </tr>\n",
       "  </tbody>\n",
       "</table>\n",
       "</div>"
      ],
      "text/plain": [
       "   Unnamed: 0                                              title  \\\n",
       "0        8476                       You Can Smell Hillary’s Fear   \n",
       "1       10294  Watch The Exact Moment Paul Ryan Committed Pol...   \n",
       "2        3608        Kerry to go to Paris in gesture of sympathy   \n",
       "3       10142  Bernie supporters on Twitter erupt in anger ag...   \n",
       "4         875   The Battle of New York: Why This Primary Matters   \n",
       "\n",
       "                                                text label  \\\n",
       "0  Daniel Greenfield, a Shillman Journalism Fello...  FAKE   \n",
       "1  Google Pinterest Digg Linkedin Reddit Stumbleu...  FAKE   \n",
       "2  U.S. Secretary of State John F. Kerry said Mon...  REAL   \n",
       "3  — Kaydee King (@KaydeeKing) November 9, 2016 T...  FAKE   \n",
       "4  It's primary day in New York and front-runners...  REAL   \n",
       "\n",
       "                                         merged_text  target  \n",
       "0  You Can Smell Hillary’s Fear. Daniel Greenfiel...     1.0  \n",
       "1  Watch The Exact Moment Paul Ryan Committed Pol...     1.0  \n",
       "2  Kerry to go to Paris in gesture of sympathy. U...     0.0  \n",
       "3  Bernie supporters on Twitter erupt in anger ag...     1.0  \n",
       "4  The Battle of New York: Why This Primary Matte...     0.0  "
      ]
     },
     "execution_count": 2,
     "metadata": {},
     "output_type": "execute_result"
    }
   ],
   "source": [
    "\n",
    "df = pd.read_csv('../fake_or_real_news.csv')\n",
    "df['merged_text'] = df['title'] + '. ' + df['text']\n",
    "df.loc[df['label'] == 'REAL', 'target'] = 0\n",
    "df.loc[df['label'] == 'FAKE', 'target'] = 1\n",
    "\n",
    "df_pick = df[['merged_text', 'target']]\n",
    "df.head()"
   ]
  },
  {
   "cell_type": "markdown",
   "metadata": {
    "id": "ZJExr93g4X59"
   },
   "source": [
    "1. Load data as train and test data.   \n",
    "  a. add Title to text and create final text, label ordered pair.  \n",
    "  b. Split 80-20 into train and test datasets."
   ]
  },
  {
   "cell_type": "code",
   "execution_count": 4,
   "metadata": {
    "colab": {
     "base_uri": "https://localhost:8080/"
    },
    "id": "lp4-B9o_6rPW",
    "outputId": "b2d5e96c-113a-488f-f9ec-dc3ed8d3bc71"
   },
   "outputs": [
    {
     "name": "stdout",
     "output_type": "stream",
     "text": [
      "(5068, 2)\n",
      "(1267, 2)\n"
     ]
    }
   ],
   "source": [
    "training_data = df_pick.sample(frac=0.8, random_state=25)\n",
    "testing_data = df_pick.drop(training_data.index)\n",
    "\n",
    "print(training_data.shape)\n",
    "print(testing_data.shape)"
   ]
  },
  {
   "cell_type": "code",
   "execution_count": 5,
   "metadata": {
    "id": "npoLaaKP4tWF"
   },
   "outputs": [
    {
     "name": "stderr",
     "output_type": "stream",
     "text": [
      "2022-04-19 00:47:07.786820: I tensorflow/core/platform/cpu_feature_guard.cc:151] This TensorFlow binary is optimized with oneAPI Deep Neural Network Library (oneDNN) to use the following CPU instructions in performance-critical operations:  AVX2 FMA\n",
      "To enable them in other operations, rebuild TensorFlow with the appropriate compiler flags.\n",
      "2022-04-19 00:47:09.875253: I tensorflow/core/common_runtime/gpu/gpu_device.cc:1525] Created device /job:localhost/replica:0/task:0/device:GPU:0 with 10779 MB memory:  -> device: 0, name: Tesla K80, pci bus id: 0000:05:00.0, compute capability: 3.7\n"
     ]
    }
   ],
   "source": [
    "training_dataset = (\n",
    "    tf.data.Dataset.from_tensor_slices(\n",
    "        (\n",
    "            tf.cast(training_data['merged_text'].values, tf.string),\n",
    "            tf.cast(training_data['target'].values, tf.int32)\n",
    "        )\n",
    "    )\n",
    ")\n",
    "\n",
    "test_dataset = (\n",
    "    tf.data.Dataset.from_tensor_slices(\n",
    "        (\n",
    "            tf.cast(testing_data['merged_text'].values, tf.string),\n",
    "            tf.cast(testing_data['target'].values, tf.int32)\n",
    "        )\n",
    "    )\n",
    ")\n",
    "BUFFER_SIZE = 10000\n",
    "BATCH_SIZE = 64\n",
    "training_dataset = training_dataset.shuffle(BUFFER_SIZE).batch(BATCH_SIZE).prefetch(tf.data.AUTOTUNE)\n",
    "test_dataset = test_dataset.batch(BATCH_SIZE).prefetch(tf.data.AUTOTUNE)"
   ]
  },
  {
   "cell_type": "code",
   "execution_count": 7,
   "metadata": {
    "colab": {
     "base_uri": "https://localhost:8080/"
    },
    "id": "4fiwWQ21AaWN",
    "outputId": "aadf6bd4-1766-4eb5-aafe-63009480640f"
   },
   "outputs": [
    {
     "name": "stdout",
     "output_type": "stream",
     "text": [
      "texts:  [b'Dying out: Wild animal numbers could fall by 67% from 1970-2020, study says. RT October 27, 2016 \\nThe number of wild animals on Earth could fall by more than two-thirds in the 50 years to 2020, according to a new report which places the blame on the destruction of habitats, hunting and pollution. The forecast could lead to major consequences for humans. \\nThe Living Planet Report 2016 says that animal losses are on track to reach 67 percent in the 50 years to 2020. The report\\xe2\\x80\\x99s authors also took into consideration a recent trend in animal population decline, citing a 58 percent plummet between 1970 and 2012. \\nThe researchers analyzed the changing presence of 14,152 monitored populations of the 3,706 vertebrate species \\xe2\\x80\\x93 mammals, birds, fish, amphibians and reptiles among them. \\nAccording to the paper, the biggest cause of the plummeting animal populations is the destruction of wilderness areas by farming and logging. Pollution was also mentioned as a significant problem. Vaccine-laden M&M\\xe2\\x80\\x99s to be distributed via drone for endangered ferrets https://t.co/wm4DUucNxn pic.twitter.com/9a6F9x3raG \\n\\xe2\\x80\\x9cHumanity\\xe2\\x80\\x99s misuse of natural resources is threatening habitats, pushing irreplaceable species to the brink, and threatening the stability of our climate,\\xe2\\x80\\x9d said WWF\\xe2\\x80\\x99s director of science, Mike Barrett. A d v e r t i s e m e n t \\nAnimals across the planet are expected to be affected. However, rivers and lakes are the hardest-hit areas. Barrett noted that global warming is exacerbating the pressures. \\n\\xe2\\x80\\x9cWe are no longer a small world on a big planet. We are now a big world on a small planet, where we have reached a saturation point,\\xe2\\x80\\x9d the Stockholm Resilience Center\\xe2\\x80\\x99s Professor Johan Rockstr\\xc3\\xb6m said in a foreword for the report. \\nThe decline in wildlife, along with climate change, is part of the proposed notion of Anthropocene, a term which suggests a new era in which humans have managed to have a significant global impact on Earth\\xe2\\x80\\x99s geology and ecosystems. \\nThe notion \\xe2\\x80\\x93 which has yet to be officially approved as a term used to explain geological time \\xe2\\x80\\x93 can lead to major consequences. \\n\\xe2\\x80\\x9cThe richness and diversity of life on Earth is fundamental to the complex life systems that underpin it. Life supports life itself and we are part of the same equation. Lose biodiversity and the natural world and the life support systems, as we know them today, will collapse,\\xe2\\x80\\x9d WWF Director-General Marco Lambertini said, as quoted by the Guardian. \\nIn fact, the report states that humans could be anything but happy if the forecast comes to fruition, noting that the predicted situation could provoke serious competition. \\n\\xe2\\x80\\x9cIncreased human pressure threatens the natural resources that humanity depends upon, increasing the risk of water and food insecurity and competition over natural resources,\\xe2\\x80\\x9d the report states. \\nThere does, however, appear to be some hope. Some species are beginning to recover, suggesting that conservation efforts could help tackle the crisis. \\nHowever, Barrett noted that in order for such efforts to take place, society must largely change how it consumes resources. \\n\\xe2\\x80\\x9cYou\\xe2\\x80\\x99d like to think that was a no-brainer in that if a business is consuming the raw materials for its products in a way that is not sustainable, then inevitably it will eventually put itself out of business,\\xe2\\x80\\x9d Barrett said. \\n\\xe2\\x80\\x9cThe report is certainly a pretty shocking snapshot of where we are,\\xe2\\x80\\x9d he added. \\xe2\\x80\\x9cMy hope though is that we don\\xe2\\x80\\x99t throw our hands up in despair \\xe2\\x80\\x93 there is no time for despair, we have to crack on and act. I do remain convinced we can find our sustainable course through the Anthropocene, but the will has to be there to do it.\\xe2\\x80\\x9d \\nThe new report comes less than two months after a similar analysis found that Earth has lost one-tenth of its wilderness sites since the early 1990s.   6:41  ']\n",
      "labels:  [1]\n"
     ]
    }
   ],
   "source": [
    "for example, label in training_dataset.take(1):\n",
    "  print('texts: ', example.numpy()[:1])\n",
    "  print('labels: ', label.numpy()[:1])"
   ]
  },
  {
   "cell_type": "code",
   "execution_count": 8,
   "metadata": {
    "id": "lAJTRJhHAsPe"
   },
   "outputs": [],
   "source": [
    "VOCAB_SIZE = 1000\n",
    "encoder = tf.keras.layers.TextVectorization(\n",
    "    max_tokens=VOCAB_SIZE)\n",
    "encoder.adapt(training_dataset.map(lambda text, label: text))"
   ]
  },
  {
   "cell_type": "code",
   "execution_count": 9,
   "metadata": {
    "colab": {
     "base_uri": "https://localhost:8080/"
    },
    "id": "mVJxYguQA1v5",
    "outputId": "6d09aa12-53b6-4704-b474-2b1713ad1ffb"
   },
   "outputs": [
    {
     "data": {
      "text/plain": [
       "array(['', '[UNK]', 'the', 'to', 'of', 'and', 'a', 'in', 'that', 'is',\n",
       "       'for', 'on', 'as', 'it', 'with', 'he', 'was', 'are', 'be', 'this'],\n",
       "      dtype='<U14')"
      ]
     },
     "execution_count": 9,
     "metadata": {},
     "output_type": "execute_result"
    }
   ],
   "source": [
    "vocab = np.array(encoder.get_vocabulary())\n",
    "vocab[:20]"
   ]
  },
  {
   "cell_type": "code",
   "execution_count": 10,
   "metadata": {
    "colab": {
     "base_uri": "https://localhost:8080/"
    },
    "id": "9Ryr3zYwA-Bv",
    "outputId": "46db1361-806b-4d5a-cdf1-41f884688f24"
   },
   "outputs": [
    {
     "data": {
      "text/plain": [
       "array([[  1,  57,   1, ...,   0,   0,   0],\n",
       "       [  2,   1,   1, ...,   0,   0,   0],\n",
       "       [614,   2, 566, ...,   0,   0,   0]])"
      ]
     },
     "execution_count": 10,
     "metadata": {},
     "output_type": "execute_result"
    }
   ],
   "source": [
    "encoded_example = encoder(example)[:3].numpy()\n",
    "encoded_example"
   ]
  },
  {
   "cell_type": "code",
   "execution_count": 11,
   "metadata": {
    "id": "z0deinp1BSHQ"
   },
   "outputs": [],
   "source": [
    "model = tf.keras.Sequential([\n",
    "    encoder,\n",
    "    tf.keras.layers.Embedding(\n",
    "        input_dim=len(encoder.get_vocabulary()),\n",
    "        output_dim=64,\n",
    "        # Use masking to handle the variable sequence lengths\n",
    "        mask_zero=True),\n",
    "    tf.keras.layers.LSTM(64),\n",
    "    tf.keras.layers.Dense(64, activation='relu'),\n",
    "    tf.keras.layers.Dense(1)\n",
    "])"
   ]
  },
  {
   "cell_type": "code",
   "execution_count": 12,
   "metadata": {
    "colab": {
     "base_uri": "https://localhost:8080/"
    },
    "id": "Rf8QaT5SB30N",
    "outputId": "541cbbcc-b2df-4a5f-f46d-b8fed6269a53"
   },
   "outputs": [
    {
     "name": "stderr",
     "output_type": "stream",
     "text": [
      "2022-04-19 00:47:29.212588: I tensorflow/stream_executor/cuda/cuda_dnn.cc:368] Loaded cuDNN version 8101\n"
     ]
    },
    {
     "name": "stdout",
     "output_type": "stream",
     "text": [
      "[0.00824939]\n"
     ]
    }
   ],
   "source": [
    "sample_text = ('''Poll: 71 percent of Dems think Clinton should keep running even if indicted. A strong majority of Democratic voters think Hillary \n",
    "               Clinton should keep running for president even if she is charged with \n",
    "               a felony in connection with her private email use while secretary of state, according to a new poll.''')\n",
    "predictions = model.predict(np.array([sample_text]))\n",
    "print(predictions[0])"
   ]
  },
  {
   "cell_type": "code",
   "execution_count": 13,
   "metadata": {
    "id": "LQbcOnB-CN4l"
   },
   "outputs": [],
   "source": [
    "model.compile(loss=tf.keras.losses.BinaryCrossentropy(from_logits=True), \n",
    "              optimizer=tf.keras.optimizers.Adam(1e-4),\n",
    "              metrics=['accuracy'])"
   ]
  },
  {
   "cell_type": "code",
   "execution_count": 14,
   "metadata": {
    "colab": {
     "background_save": true,
     "base_uri": "https://localhost:8080/"
    },
    "id": "YBnAO6vlCovd",
    "outputId": "b65eb1a2-370f-4b3f-e12b-e71df9b91482"
   },
   "outputs": [
    {
     "name": "stdout",
     "output_type": "stream",
     "text": [
      "Epoch 1/20\n",
      "80/80 [==============================] - 39s 432ms/step - loss: 0.6894 - accuracy: 0.5024 - val_loss: 0.6851 - val_accuracy: 0.4933\n",
      "Epoch 2/20\n",
      "80/80 [==============================] - 33s 405ms/step - loss: 0.6714 - accuracy: 0.5270 - val_loss: 0.6213 - val_accuracy: 0.6740\n",
      "Epoch 3/20\n",
      "80/80 [==============================] - 33s 410ms/step - loss: 0.5998 - accuracy: 0.6855 - val_loss: 0.5739 - val_accuracy: 0.6630\n",
      "Epoch 4/20\n",
      "80/80 [==============================] - 32s 404ms/step - loss: 0.5182 - accuracy: 0.7486 - val_loss: 0.4298 - val_accuracy: 0.8145\n",
      "Epoch 5/20\n",
      "80/80 [==============================] - 32s 401ms/step - loss: 0.5009 - accuracy: 0.7703 - val_loss: 0.3809 - val_accuracy: 0.8350\n",
      "Epoch 6/20\n",
      "80/80 [==============================] - 32s 400ms/step - loss: 0.4167 - accuracy: 0.8392 - val_loss: 0.3961 - val_accuracy: 0.8248\n",
      "Epoch 7/20\n",
      "80/80 [==============================] - 33s 407ms/step - loss: 0.4242 - accuracy: 0.8362 - val_loss: 0.4044 - val_accuracy: 0.8287\n",
      "Epoch 8/20\n",
      "80/80 [==============================] - 32s 403ms/step - loss: 0.3906 - accuracy: 0.8382 - val_loss: 0.3412 - val_accuracy: 0.8721\n",
      "Epoch 9/20\n",
      "80/80 [==============================] - 32s 398ms/step - loss: 0.3845 - accuracy: 0.8506 - val_loss: 0.3511 - val_accuracy: 0.8650\n",
      "Epoch 10/20\n",
      "80/80 [==============================] - 33s 410ms/step - loss: 0.4011 - accuracy: 0.8100 - val_loss: 0.3581 - val_accuracy: 0.8508\n",
      "Epoch 11/20\n",
      "80/80 [==============================] - 32s 407ms/step - loss: 0.3152 - accuracy: 0.8806 - val_loss: 0.3295 - val_accuracy: 0.8769\n",
      "Epoch 12/20\n",
      "80/80 [==============================] - 33s 407ms/step - loss: 0.2918 - accuracy: 0.8970 - val_loss: 0.3389 - val_accuracy: 0.8611\n",
      "Epoch 13/20\n",
      "80/80 [==============================] - 32s 391ms/step - loss: 0.2757 - accuracy: 0.9015 - val_loss: 0.2955 - val_accuracy: 0.8895\n",
      "Epoch 14/20\n",
      "80/80 [==============================] - 33s 410ms/step - loss: 0.2684 - accuracy: 0.9047 - val_loss: 0.3025 - val_accuracy: 0.8911\n",
      "Epoch 15/20\n",
      "80/80 [==============================] - 32s 393ms/step - loss: 0.2769 - accuracy: 0.9037 - val_loss: 0.3451 - val_accuracy: 0.8437\n",
      "Epoch 16/20\n",
      "80/80 [==============================] - 32s 402ms/step - loss: 0.2634 - accuracy: 0.9053 - val_loss: 0.3111 - val_accuracy: 0.8777\n",
      "Epoch 17/20\n",
      "80/80 [==============================] - 32s 404ms/step - loss: 0.2660 - accuracy: 0.9045 - val_loss: 0.3163 - val_accuracy: 0.8761\n",
      "Epoch 18/20\n",
      "80/80 [==============================] - 32s 405ms/step - loss: 0.2383 - accuracy: 0.9171 - val_loss: 0.2858 - val_accuracy: 0.8998\n",
      "Epoch 19/20\n",
      "80/80 [==============================] - 32s 404ms/step - loss: 0.2373 - accuracy: 0.9144 - val_loss: 0.2965 - val_accuracy: 0.8856\n",
      "Epoch 20/20\n",
      "80/80 [==============================] - 32s 405ms/step - loss: 0.2283 - accuracy: 0.9242 - val_loss: 0.2872 - val_accuracy: 0.8871\n"
     ]
    }
   ],
   "source": [
    "callback = tf.keras.callbacks.EarlyStopping(monitor='val_loss', patience=5, restore_best_weights=True)\n",
    "history = model.fit(training_dataset, epochs=20, callbacks = [callback],\n",
    "                    validation_data=test_dataset)"
   ]
  },
  {
   "cell_type": "code",
   "execution_count": 15,
   "metadata": {
    "id": "dAy-GDRDttDw"
   },
   "outputs": [],
   "source": [
    "def plot_graphs(history, metric):\n",
    "  plt.plot(history.history[metric])\n",
    "  plt.plot(history.history['val_'+metric], '')\n",
    "  plt.xlabel(\"Epochs\")\n",
    "  plt.ylabel(metric)\n",
    "  plt.legend([metric, 'val_'+metric])"
   ]
  },
  {
   "cell_type": "code",
   "execution_count": 16,
   "metadata": {
    "colab": {
     "base_uri": "https://localhost:8080/",
     "height": 519
    },
    "id": "yovG7KvLtkXy",
    "outputId": "9f2766d9-fbe8-4022-a83b-68e56904564c"
   },
   "outputs": [
    {
     "data": {
      "text/plain": [
       "(0.0, 0.7124930001795292)"
      ]
     },
     "execution_count": 16,
     "metadata": {},
     "output_type": "execute_result"
    },
    {
     "data": {
      "image/png": "[encoded data removed]",
      "text/plain": [
       "<Figure size 1152x576 with 2 Axes>"
      ]
     },
     "metadata": {
      "needs_background": "light"
     },
     "output_type": "display_data"
    }
   ],
   "source": [
    "plt.figure(figsize=(16, 8))\n",
    "plt.subplot(1, 2, 1)\n",
    "plot_graphs(history, 'accuracy')\n",
    "plt.ylim(None, 1)\n",
    "plt.subplot(1, 2, 2)\n",
    "plot_graphs(history, 'loss')\n",
    "plt.ylim(0, None)"
   ]
  },
  {
   "cell_type": "code",
   "execution_count": 17,
   "metadata": {},
   "outputs": [
    {
     "name": "stdout",
     "output_type": "stream",
     "text": [
      "20/20 [==============================] - 3s 161ms/step - loss: 0.2872 - accuracy: 0.8871\n"
     ]
    },
    {
     "data": {
      "text/plain": [
       "[0.2871758043766022, 0.8871349692344666]"
      ]
     },
     "execution_count": 17,
     "metadata": {},
     "output_type": "execute_result"
    }
   ],
   "source": [
    "model.evaluate(test_dataset)"
   ]
  }
 ],
 "metadata": {
  "colab": {
   "name": "ML-Fake_news_classifier.ipynb",
   "provenance": []
  },
  "kernelspec": {
   "display_name": "Tensorflow 2.8.0/Keras Py3.9",
   "language": "python",
   "name": "tensorflow-2.8.0"
  },
  "language_info": {
   "codemirror_mode": {
    "name": "ipython",
    "version": 3
   },
   "file_extension": ".py",
   "mimetype": "text/x-python",
   "name": "python",
   "nbconvert_exporter": "python",
   "pygments_lexer": "ipython3",
   "version": "3.9.10"
  }
 },
 "nbformat": 4,
 "nbformat_minor": 4
}
