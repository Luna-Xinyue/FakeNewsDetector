{
 "cells": [
  {
   "cell_type": "code",
   "execution_count": 1,
   "metadata": {},
   "outputs": [],
   "source": [
    "from numpy.random import seed\n",
    "seed(1)"
   ]
  },
  {
   "cell_type": "markdown",
   "metadata": {},
   "source": [
    "Note: Due to GPU-related randomness, the training will not be reproducible."
   ]
  },
  {
   "cell_type": "code",
   "execution_count": 2,
   "metadata": {
    "id": "-WGDcLNqFzHv"
   },
   "outputs": [],
   "source": [
    "import keras\n",
    "import pandas as pd\n",
    "import numpy as np\n",
    "import sklearn\n",
    "import tensorflow as tf\n",
    "import matplotlib.pyplot as plt\n",
    "tf.random.set_seed(10)"
   ]
  },
  {
   "cell_type": "markdown",
   "metadata": {},
   "source": [
    "#### Load dataset from csv file."
   ]
  },
  {
   "cell_type": "code",
   "execution_count": 3,
   "metadata": {
    "id": "ofv3AqeSXdZd"
   },
   "outputs": [
    {
     "data": {
      "text/html": [
       "<div>\n",
       "<style scoped>\n",
       "    .dataframe tbody tr th:only-of-type {\n",
       "        vertical-align: middle;\n",
       "    }\n",
       "\n",
       "    .dataframe tbody tr th {\n",
       "        vertical-align: top;\n",
       "    }\n",
       "\n",
       "    .dataframe thead th {\n",
       "        text-align: right;\n",
       "    }\n",
       "</style>\n",
       "<table border=\"1\" class=\"dataframe\">\n",
       "  <thead>\n",
       "    <tr style=\"text-align: right;\">\n",
       "      <th></th>\n",
       "      <th>Unnamed: 0</th>\n",
       "      <th>title</th>\n",
       "      <th>text</th>\n",
       "      <th>label</th>\n",
       "      <th>merged_text</th>\n",
       "      <th>target</th>\n",
       "    </tr>\n",
       "  </thead>\n",
       "  <tbody>\n",
       "    <tr>\n",
       "      <th>0</th>\n",
       "      <td>8476</td>\n",
       "      <td>You Can Smell Hillary’s Fear</td>\n",
       "      <td>Daniel Greenfield, a Shillman Journalism Fello...</td>\n",
       "      <td>FAKE</td>\n",
       "      <td>You Can Smell Hillary’s Fear. Daniel Greenfiel...</td>\n",
       "      <td>1.0</td>\n",
       "    </tr>\n",
       "    <tr>\n",
       "      <th>1</th>\n",
       "      <td>10294</td>\n",
       "      <td>Watch The Exact Moment Paul Ryan Committed Pol...</td>\n",
       "      <td>Google Pinterest Digg Linkedin Reddit Stumbleu...</td>\n",
       "      <td>FAKE</td>\n",
       "      <td>Watch The Exact Moment Paul Ryan Committed Pol...</td>\n",
       "      <td>1.0</td>\n",
       "    </tr>\n",
       "    <tr>\n",
       "      <th>2</th>\n",
       "      <td>3608</td>\n",
       "      <td>Kerry to go to Paris in gesture of sympathy</td>\n",
       "      <td>U.S. Secretary of State John F. Kerry said Mon...</td>\n",
       "      <td>REAL</td>\n",
       "      <td>Kerry to go to Paris in gesture of sympathy. U...</td>\n",
       "      <td>0.0</td>\n",
       "    </tr>\n",
       "    <tr>\n",
       "      <th>3</th>\n",
       "      <td>10142</td>\n",
       "      <td>Bernie supporters on Twitter erupt in anger ag...</td>\n",
       "      <td>— Kaydee King (@KaydeeKing) November 9, 2016 T...</td>\n",
       "      <td>FAKE</td>\n",
       "      <td>Bernie supporters on Twitter erupt in anger ag...</td>\n",
       "      <td>1.0</td>\n",
       "    </tr>\n",
       "    <tr>\n",
       "      <th>4</th>\n",
       "      <td>875</td>\n",
       "      <td>The Battle of New York: Why This Primary Matters</td>\n",
       "      <td>It's primary day in New York and front-runners...</td>\n",
       "      <td>REAL</td>\n",
       "      <td>The Battle of New York: Why This Primary Matte...</td>\n",
       "      <td>0.0</td>\n",
       "    </tr>\n",
       "  </tbody>\n",
       "</table>\n",
       "</div>"
      ],
      "text/plain": [
       "   Unnamed: 0                                              title  \\\n",
       "0        8476                       You Can Smell Hillary’s Fear   \n",
       "1       10294  Watch The Exact Moment Paul Ryan Committed Pol...   \n",
       "2        3608        Kerry to go to Paris in gesture of sympathy   \n",
       "3       10142  Bernie supporters on Twitter erupt in anger ag...   \n",
       "4         875   The Battle of New York: Why This Primary Matters   \n",
       "\n",
       "                                                text label  \\\n",
       "0  Daniel Greenfield, a Shillman Journalism Fello...  FAKE   \n",
       "1  Google Pinterest Digg Linkedin Reddit Stumbleu...  FAKE   \n",
       "2  U.S. Secretary of State John F. Kerry said Mon...  REAL   \n",
       "3  — Kaydee King (@KaydeeKing) November 9, 2016 T...  FAKE   \n",
       "4  It's primary day in New York and front-runners...  REAL   \n",
       "\n",
       "                                         merged_text  target  \n",
       "0  You Can Smell Hillary’s Fear. Daniel Greenfiel...     1.0  \n",
       "1  Watch The Exact Moment Paul Ryan Committed Pol...     1.0  \n",
       "2  Kerry to go to Paris in gesture of sympathy. U...     0.0  \n",
       "3  Bernie supporters on Twitter erupt in anger ag...     1.0  \n",
       "4  The Battle of New York: Why This Primary Matte...     0.0  "
      ]
     },
     "execution_count": 3,
     "metadata": {},
     "output_type": "execute_result"
    }
   ],
   "source": [
    "\n",
    "df = pd.read_csv('./fake_or_real_news.csv')\n",
    "df['merged_text'] = df['title'] + '. ' + df['text']\n",
    "df.loc[df['label'] == 'REAL', 'target'] = 0\n",
    "df.loc[df['label'] == 'FAKE', 'target'] = 1\n",
    "\n",
    "df_pick = df[['merged_text', 'target']]\n",
    "df.head()"
   ]
  },
  {
   "cell_type": "markdown",
   "metadata": {
    "id": "ZJExr93g4X59"
   },
   "source": [
    "#### Load data as train and test data.   \n",
    "  a. Add Title to Text and create the final text, label ordered pair.  \n",
    "  b. Split the data 80-20 into train and test datasets."
   ]
  },
  {
   "cell_type": "code",
   "execution_count": 4,
   "metadata": {
    "colab": {
     "base_uri": "https://localhost:8080/"
    },
    "id": "lp4-B9o_6rPW",
    "outputId": "b2d5e96c-113a-488f-f9ec-dc3ed8d3bc71"
   },
   "outputs": [
    {
     "name": "stdout",
     "output_type": "stream",
     "text": [
      "(5068, 2)\n",
      "(1267, 2)\n"
     ]
    }
   ],
   "source": [
    "training_data = df_pick.sample(frac=0.8, random_state=25)\n",
    "testing_data = df_pick.drop(training_data.index)\n",
    "\n",
    "print(training_data.shape)\n",
    "print(testing_data.shape)"
   ]
  },
  {
   "cell_type": "code",
   "execution_count": 5,
   "metadata": {
    "id": "npoLaaKP4tWF"
   },
   "outputs": [
    {
     "name": "stderr",
     "output_type": "stream",
     "text": [
      "2022-05-06 23:07:18.886064: I tensorflow/core/platform/cpu_feature_guard.cc:151] This TensorFlow binary is optimized with oneAPI Deep Neural Network Library (oneDNN) to use the following CPU instructions in performance-critical operations:  AVX2 FMA\n",
      "To enable them in other operations, rebuild TensorFlow with the appropriate compiler flags.\n",
      "2022-05-06 23:07:20.804667: I tensorflow/core/common_runtime/gpu/gpu_device.cc:1525] Created device /job:localhost/replica:0/task:0/device:GPU:0 with 38334 MB memory:  -> device: 0, name: NVIDIA A100-SXM4-40GB, pci bus id: 0000:07:00.0, compute capability: 8.0\n"
     ]
    }
   ],
   "source": [
    "training_dataset = (\n",
    "    tf.data.Dataset.from_tensor_slices(\n",
    "        (\n",
    "            tf.cast(training_data['merged_text'].values, tf.string),\n",
    "            tf.cast(training_data['target'].values, tf.int32)\n",
    "        )\n",
    "    )\n",
    ")\n",
    "\n",
    "test_dataset = (\n",
    "    tf.data.Dataset.from_tensor_slices(\n",
    "        (\n",
    "            tf.cast(testing_data['merged_text'].values, tf.string),\n",
    "            tf.cast(testing_data['target'].values, tf.int32)\n",
    "        )\n",
    "    )\n",
    ")\n",
    "BUFFER_SIZE = 10000\n",
    "BATCH_SIZE = 8\n",
    "training_dataset = training_dataset.shuffle(BUFFER_SIZE).batch(BATCH_SIZE).prefetch(tf.data.AUTOTUNE)\n",
    "test_dataset = test_dataset.batch(BATCH_SIZE).prefetch(tf.data.AUTOTUNE)"
   ]
  },
  {
   "cell_type": "markdown",
   "metadata": {},
   "source": [
    "This is one training example in the dataset."
   ]
  },
  {
   "cell_type": "code",
   "execution_count": 6,
   "metadata": {
    "colab": {
     "base_uri": "https://localhost:8080/"
    },
    "id": "4fiwWQ21AaWN",
    "outputId": "aadf6bd4-1766-4eb5-aafe-63009480640f"
   },
   "outputs": [
    {
     "name": "stdout",
     "output_type": "stream",
     "text": [
      "texts:  [b'\\xe2\\x80\\x98People in Europe are full of fear\\xe2\\x80\\x99 over refugee influx. The European Union\\xe2\\x80\\x99s sharpening divisions over a spiraling refugee crisis broke into the open Thursday with two leaders strongly disagreeing in public over whether the asylum-seekers were threatening \\xe2\\x80\\x9cEurope\\xe2\\x80\\x99s Christian roots.\\xe2\\x80\\x9d\\n\\nThat was the language used by Hungarian Prime Minister Viktor Orban as he warned Europe against allowing in mostly Muslim families. A day after a drowned Syrian toddler washed up on the Turkish coast, another European leader retorted that Christian values demanded helping the less fortunate.\\n\\nThe furious exchange \\xe2\\x80\\x94 a rare breach of the E.U.\\xe2\\x80\\x99s buttoned-down decorum \\xe2\\x80\\x94 came as Hungarian authorities apparently laid a trap for thousands of asylum-seekers who had packed Budapest\\xe2\\x80\\x99s central train station after days of worsening conditions outside the station. Police had blocked them from entering the station for days but allowed them in early Thursday.\\n\\nBut a refugee-packed train apparently bound for the Austrian border came to a halt just west of Budapest, in a small town where dozens of police officers were waiting on the platform. They tried to force people off the train to take them to a migrant-processing center, threatening their chances to make it onward to Western Europe.\\n\\nBy day\\xe2\\x80\\x99s end, there was a standoff, with the packed train surrounded by police and the migrants refusing to budge. Some of the passengers received medical treatment on the platform.\\n\\n[European railways become ground zero for the migrant crisis]\\n\\nOrban, Hungary\\xe2\\x80\\x99s nationalist leader who has spearheaded attempts to turn back the migrants, said Thursday that he had little choice but to seal his nation\\xe2\\x80\\x99s border with razor wire, soldiers and a high fence.\\n\\n\\xe2\\x80\\x9cWe Hungarians are full of fear, people in Europe are full of fear, because we see that the European leaders, among them the prime ministers, are not able to control the situation,\\xe2\\x80\\x9d he said in Brussels in a raw joint appearance with European Parliament President Martin Schulz. Orban and Schulz, a veteran politician from Germany, made no attempt to paper over their differences or their distaste for each other.\\n\\nThe Hungarian leader blamed Germany for the crisis, saying that its open-door policy toward Syrian asylum-seekers was propelling a wave of migrants to undertake dangerous journeys toward Europe\\xe2\\x80\\x99s heart. Germany expects 800,000 asylum-seekers this year, and it has said that it does not plan to turn away Syrians.\\n\\n\\xe2\\x80\\x9cThe moral, human thing is to make clear: \\xe2\\x80\\x98Please don\\xe2\\x80\\x99t come. Why do you have to go from Turkey to Europe? Turkey is a safe country. Stay there. It\\xe2\\x80\\x99s risky to come,\\xe2\\x80\\x99\\xc2\\xa0\\xe2\\x80\\x9d Orban said.\\n\\nHundreds of thousands of people fleeing war in Syria, Iraq and Afghanistan have overwhelmed Europe\\xe2\\x80\\x99s capacity to respond in recent months, opening stark divisions. Some leaders believe that the world\\xe2\\x80\\x99s largest economic bloc \\xe2\\x80\\x94 a vast territory of 503\\xc2\\xa0million residents \\xe2\\x80\\x94 is more than capable of accommodating refugees. Others, including Hungary\\xe2\\x80\\x99s Orban, believe the continent\\xe2\\x80\\x99s population is in a far more delicate state.\\n\\nThe divisions could threaten some of the most basic tenets of the E.U., an alliance built on the ashes of World War\\xc2\\xa0II in a bid never again to allow such destruction. German Chancellor Angela Merkel said this week that a Europe with no internal borders \\xe2\\x80\\x94 a key achievement of European unification \\xe2\\x80\\x94 could be in question if no solution to the refugee crisis is found.\\n\\nHe warned that the splits emerging during the refugee crisis could do lasting damage to the 28-nation alliance, which was founded on a spirit of consensus and burden-sharing.\\n\\n\\xe2\\x80\\x9cThis is a crucial moment for the European Union,\\xe2\\x80\\x9d Schulz said. \\xe2\\x80\\x9cA deeper split of the union is a risk we cannot exclude.\\xe2\\x80\\x9d\\n\\nOrban\\xe2\\x80\\x99s fears are shared by many Eastern European nations, which have pushed hard against any attempt to require them to take in asylum-seekers. Slovakia has said it will accept only Christians. In Estonia, where fewer than 100 migrants have been resettled, police on Thursday were investigating a suspicious early-morning fire at a dormitory that was housing victims of Syria\\xe2\\x80\\x99s war.\\n\\n[Britain takes in so few refugees from Syria they would fit on a subway train]\\n\\nBut the concerns also extend to Britain. There, fewer Syrians than would fit in a London subway train have been accepted this year. British media reported Thursday that Prime Minister David Cameron would soon announce plans to take in \\xe2\\x80\\x9cthousands\\xe2\\x80\\x9d more Syrian refugees, a striking turnaround for a leader who a day earlier had said that the answer to the crisis was not simply taking in \\xe2\\x80\\x9cmore and more\\xe2\\x80\\x9d refugees.\\n\\nElsewhere in Europe, the refusals brought mounting anger from leaders who are more sympathetic to the growing crowds of asylum-seekers.\\n\\n\\xe2\\x80\\x9cFor a Christian, it shouldn\\xe2\\x80\\x99t matter what race, religion and nationality the person in need represents,\\xe2\\x80\\x9d European Council President Donald Tusk said Thursday, launching into Orban before the two met in Brussels. Tusk, a former prime minister of Poland, proposed resettling at least 100,000 refugees across Europe.\\n\\nIn France, President Fran\\xc3\\xa7ois Hollande said the death of the toddler is \\xe2\\x80\\x9ca tragedy, but it\\xe2\\x80\\x99s also a call to the European conscience. Europe is made of values and principles.\\xe2\\x80\\x9d Images of the child\\xe2\\x80\\x99s body lying facedown and partly in the water on a Turkish beach evoked consternation around the world.\\n\\nHollande said he had just reached an agreement with Germany on a proposal for mandatory quotas to more equitably spread refugees across the E.U. Some European countries \\xe2\\x80\\x9care not shouldering their moral obligations,\\xe2\\x80\\x9d he said.\\n\\nMerkel, meanwhile, said she understood that not every nation was prepared to take on as large a burden as her country was doing. But she said it was impossible for Germany, Sweden and Austria alone to continue taking in the vast majority of the incoming asylum-seekers.\\n\\n\\xe2\\x80\\x9cThe Geneva Convention does not apply only to Germany but also to every state,\\xe2\\x80\\x9d she said, referring to the international treaty that requires countries to take in refugees of war.\\n\\nOrban has vowed to seal Hungary\\xe2\\x80\\x99s borders by Sept.\\xc2\\xa015, empowered by emergency measures expected to be approved by the country\\xe2\\x80\\x99s parliament in the coming days. The measures would give authorities broad powers to crack down on illegal migration.\\n\\nOutside Budapest\\xe2\\x80\\x99s elegant stone-and-glass-fronted station Thursday evening, people living in tents and atop worn woolen blankets sprawled across a vast public plaza and into an adjacent subway concourse. Tourists carrying frame backpacks slipped into the station entrance past women cradling babies, men pacing anxiously and children arguing over the few available toys.\\n\\nRefugees expressed a keen awareness that Hungary does not want them \\xe2\\x80\\x94 and said the feeling is mutual.\\n\\n\\xe2\\x80\\x9cHungary is a poor country. They can\\xe2\\x80\\x99t give us the life we\\xe2\\x80\\x99re looking for. They can\\xe2\\x80\\x99t even give us food or water,\\xe2\\x80\\x9d said Yahya Lababidi, a tank-top-wearing 21-year-old law student from the northern Syrian province of Idlib. \\xe2\\x80\\x9cWe want to go to the rich countries.\\xe2\\x80\\x9d\\n\\nLababidi said he had been traveling for a month, passing along \\xe2\\x80\\x9cthe usual route\\xe2\\x80\\x9d \\xe2\\x80\\x94 through Turkey, Greece, Macedonia and Serbia \\xe2\\x80\\x94 with a plan ultimately to settle in the Netherlands. But he said that when he tried to enter the train station in Budapest five days earlier, police officers barred his path. Since then, he\\xe2\\x80\\x99s been sleeping on the cold stone of the plaza.\\n\\n\\xe2\\x80\\x9cI escaped from war,\\xe2\\x80\\x9d he said. \\xe2\\x80\\x9cI thought things would be better than this.\\xe2\\x80\\x9d\\n\\n[As tragedies shock Europe, a bigger refu\\xc2\\xadgee crisis looms in the Middle East]\\n\\nHungarian leaders \\xe2\\x80\\x9chave done all they can to stir up popular sentiment against immigrants and refugees,\\xe2\\x80\\x9d said Marta Pardavi, a co-chair of the Hungarian Helsinki Committee, a group that offers legal advice to asylum-seekers. \\xe2\\x80\\x9cThis has become a totally divided issue. Friendships break up over this.\\xe2\\x80\\x9d\\n\\nCritics of the European response said the continent\\xe2\\x80\\x99s 20th-century history of dictatorships and wars should instill in it more sympathy for others in need.\\n\\n\\xe2\\x80\\x9cWe are facing a historical moment, perhaps one of the biggest the E.U. has had to face over the last couple of decades,\\xe2\\x80\\x9d said Yves Pascouau, director of migration and mobility policies at the Brussels-based European Policy Center. \\xe2\\x80\\x9cEuropean citizens have fled dictatorships and wars. This is a part of our history. We\\xe2\\x80\\x99ve been able to be protected elsewhere in our countries.\\xe2\\x80\\x9d\\n\\nWitte reported from Budapest. Karla Adam in London contributed to this report.\\n\\nEuropean railways become ground zero for the migrant crisis\\n\\nWhy the language we use to talk about refugees matters so much\\n\\nE.U. leaders show little unity ahead of emergency conclave on refugees']\n",
      "labels:  [0]\n"
     ]
    }
   ],
   "source": [
    "for example, label in training_dataset.take(1):\n",
    "  print('texts: ', example.numpy()[:1])\n",
    "  print('labels: ', label.numpy()[:1])"
   ]
  },
  {
   "cell_type": "markdown",
   "metadata": {},
   "source": [
    "Note VOCAB_SIZE as a hyper-parameter. Next we create the Encoder layer that will encode every word in vocabulary as a vector."
   ]
  },
  {
   "cell_type": "markdown",
   "metadata": {},
   "source": [
    "#### Define the Encoder layer"
   ]
  },
  {
   "cell_type": "code",
   "execution_count": 7,
   "metadata": {
    "id": "lAJTRJhHAsPe"
   },
   "outputs": [],
   "source": [
    "VOCAB_SIZE = 2000\n",
    "encoder = tf.keras.layers.TextVectorization(\n",
    "    max_tokens=VOCAB_SIZE)\n",
    "encoder.adapt(training_dataset.map(lambda text, label: text))"
   ]
  },
  {
   "cell_type": "code",
   "execution_count": 8,
   "metadata": {
    "colab": {
     "base_uri": "https://localhost:8080/"
    },
    "id": "mVJxYguQA1v5",
    "outputId": "6d09aa12-53b6-4704-b474-2b1713ad1ffb"
   },
   "outputs": [
    {
     "data": {
      "text/plain": [
       "array(['', '[UNK]', 'the', 'to', 'of', 'and', 'a', 'in', 'that', 'is',\n",
       "       'for', 'on', 'as', 'it', 'with', 'he', 'was', 'are', 'be', 'this'],\n",
       "      dtype='<U15')"
      ]
     },
     "execution_count": 8,
     "metadata": {},
     "output_type": "execute_result"
    }
   ],
   "source": [
    "vocab = np.array(encoder.get_vocabulary())\n",
    "vocab[:20]"
   ]
  },
  {
   "cell_type": "code",
   "execution_count": 9,
   "metadata": {
    "colab": {
     "base_uri": "https://localhost:8080/"
    },
    "id": "9Ryr3zYwA-Bv",
    "outputId": "46db1361-806b-4d5a-cdf1-41f884688f24"
   },
   "outputs": [
    {
     "data": {
      "text/plain": [
       "array([[   1,    7,  766, ...,    1,   11, 1545],\n",
       "       [   1,    1, 1453, ...,    0,    0,    0],\n",
       "       [ 732, 1260,  128, ...,    0,    0,    0]])"
      ]
     },
     "execution_count": 9,
     "metadata": {},
     "output_type": "execute_result"
    }
   ],
   "source": [
    "encoded_example = encoder(example)[:3].numpy()\n",
    "encoded_example"
   ]
  },
  {
   "cell_type": "markdown",
   "metadata": {},
   "source": [
    "### Specify the model architecture\n",
    "Layers:\n",
    "1. Encoder\n",
    "2. Embedding\n",
    "3. LSTM\n",
    "4. Dense layer\n",
    "5. Output layer"
   ]
  },
  {
   "cell_type": "code",
   "execution_count": 27,
   "metadata": {
    "id": "z0deinp1BSHQ"
   },
   "outputs": [],
   "source": [
    "model = tf.keras.Sequential([\n",
    "    encoder,\n",
    "    tf.keras.layers.Embedding(\n",
    "        input_dim=len(encoder.get_vocabulary()),\n",
    "        output_dim=64,\n",
    "        # Use masking to handle the variable sequence lengths\n",
    "        mask_zero=True),\n",
    "    tf.keras.layers.LSTM(64),\n",
    "    tf.keras.layers.Dense(64, activation='relu'),\n",
    "    tf.keras.layers.Dense(1)\n",
    "])"
   ]
  },
  {
   "cell_type": "markdown",
   "metadata": {},
   "source": [
    "Sample prediction on untrained model"
   ]
  },
  {
   "cell_type": "code",
   "execution_count": 28,
   "metadata": {
    "colab": {
     "base_uri": "https://localhost:8080/"
    },
    "id": "Rf8QaT5SB30N",
    "outputId": "541cbbcc-b2df-4a5f-f46d-b8fed6269a53"
   },
   "outputs": [
    {
     "name": "stdout",
     "output_type": "stream",
     "text": [
      "[0.00443921]\n"
     ]
    }
   ],
   "source": [
    "sample_text = ('''Poll: 71 percent of Dems think Clinton should keep running even if indicted. A strong majority of Democratic voters think Hillary \n",
    "               Clinton should keep running for president even if she is charged with \n",
    "               a felony in connection with her private email use while secretary of state, according to a new poll.''')\n",
    "predictions = model.predict(np.array([sample_text]))\n",
    "print(predictions[0])"
   ]
  },
  {
   "cell_type": "markdown",
   "metadata": {},
   "source": [
    "### Training the model\n",
    "First, we specify the loss, optimizer, and metrics for the training phase."
   ]
  },
  {
   "cell_type": "code",
   "execution_count": 29,
   "metadata": {
    "id": "LQbcOnB-CN4l"
   },
   "outputs": [],
   "source": [
    "model.compile(loss=tf.keras.losses.BinaryCrossentropy(from_logits=True), \n",
    "              optimizer=tf.keras.optimizers.Adam(1e-3),\n",
    "              metrics=['accuracy'])"
   ]
  },
  {
   "cell_type": "markdown",
   "metadata": {},
   "source": [
    "To implement Early Stopping, we monitor the Validation loss and do not stop training unless it doesn't decrease below current lowest for 7 epochs. Once it has stopped, we restore the model to its best weights according to the validation loss."
   ]
  },
  {
   "cell_type": "code",
   "execution_count": 42,
   "metadata": {
    "colab": {
     "background_save": true,
     "base_uri": "https://localhost:8080/"
    },
    "id": "YBnAO6vlCovd",
    "outputId": "b65eb1a2-370f-4b3f-e12b-e71df9b91482"
   },
   "outputs": [
    {
     "name": "stdout",
     "output_type": "stream",
     "text": [
      "Epoch 1/20\n",
      "634/634 [==============================] - 38s 60ms/step - loss: 0.3366 - accuracy: 0.8461 - val_loss: 0.3522 - val_accuracy: 0.8335\n",
      "Epoch 2/20\n",
      "634/634 [==============================] - 38s 60ms/step - loss: 0.2648 - accuracy: 0.8907 - val_loss: 0.4680 - val_accuracy: 0.7751\n",
      "Epoch 3/20\n",
      "634/634 [==============================] - 38s 60ms/step - loss: 0.3531 - accuracy: 0.8360 - val_loss: 0.3801 - val_accuracy: 0.8240\n",
      "Epoch 4/20\n",
      "634/634 [==============================] - 38s 60ms/step - loss: 0.2316 - accuracy: 0.9025 - val_loss: 0.4298 - val_accuracy: 0.8185\n",
      "Epoch 5/20\n",
      "634/634 [==============================] - 37s 59ms/step - loss: 0.1987 - accuracy: 0.9211 - val_loss: 0.4712 - val_accuracy: 0.7774\n",
      "Epoch 6/20\n",
      "634/634 [==============================] - 38s 60ms/step - loss: 0.2256 - accuracy: 0.8980 - val_loss: 0.5234 - val_accuracy: 0.7245\n",
      "Epoch 7/20\n",
      "634/634 [==============================] - 38s 60ms/step - loss: 0.2290 - accuracy: 0.9015 - val_loss: 0.3714 - val_accuracy: 0.8508\n",
      "Epoch 8/20\n",
      "634/634 [==============================] - 38s 60ms/step - loss: 0.1251 - accuracy: 0.9483 - val_loss: 0.3727 - val_accuracy: 0.8635\n"
     ]
    }
   ],
   "source": [
    "callback = tf.keras.callbacks.EarlyStopping(monitor='val_loss', patience=7, restore_best_weights=True)\n",
    "history = model.fit(training_dataset, epochs=20, callbacks = [callback],\n",
    "                    validation_data=test_dataset)"
   ]
  },
  {
   "cell_type": "markdown",
   "metadata": {},
   "source": [
    "### Results"
   ]
  },
  {
   "cell_type": "code",
   "execution_count": 46,
   "metadata": {
    "id": "dAy-GDRDttDw"
   },
   "outputs": [],
   "source": [
    "def plot_graphs(history, metric):\n",
    "    \"\"\"Utility function to plot the graphs\"\"\"\n",
    "    plt.plot(history.history[metric])\n",
    "    plt.plot(history.history['val_'+metric], '')\n",
    "    plt.xlabel(\"Epochs\")\n",
    "    plt.ylabel(metric)\n",
    "    plt.legend([metric, 'val_'+metric])"
   ]
  },
  {
   "cell_type": "markdown",
   "metadata": {},
   "source": [
    "The plots below show the training accuracy and loss alongside the validation (here, validation set is the test set itself) accuracy and loss, plotted against the epoch number."
   ]
  },
  {
   "cell_type": "code",
   "execution_count": 47,
   "metadata": {
    "colab": {
     "base_uri": "https://localhost:8080/",
     "height": 519
    },
    "id": "yovG7KvLtkXy",
    "outputId": "9f2766d9-fbe8-4022-a83b-68e56904564c"
   },
   "outputs": [
    {
     "data": {
      "image/png": "[encoded data removed]",
      "text/plain": [
       "<Figure size 1152x576 with 2 Axes>"
      ]
     },
     "metadata": {
      "needs_background": "light"
     },
     "output_type": "display_data"
    }
   ],
   "source": [
    "plt.figure(figsize=(16, 8))\n",
    "plt.subplot(1, 2, 1)\n",
    "plot_graphs(history, 'accuracy')\n",
    "plt.ylim(None, 1)\n",
    "plt.subplot(1, 2, 2)\n",
    "plot_graphs(history, 'loss')\n",
    "plt.ylim(0, None)\n",
    "plt.savefig('plots/LSTM/LSTM_training')"
   ]
  },
  {
   "cell_type": "markdown",
   "metadata": {},
   "source": [
    "### Test Loss and Accuracy of the trained LSTM classifier."
   ]
  },
  {
   "cell_type": "code",
   "execution_count": 48,
   "metadata": {},
   "outputs": [
    {
     "name": "stdout",
     "output_type": "stream",
     "text": [
      "159/159 [==============================] - 4s 23ms/step - loss: 0.3522 - accuracy: 0.8335\n",
      "Test accuracy: 0.8334648609161377\n",
      "Test loss: 0.3522043228149414\n"
     ]
    }
   ],
   "source": [
    "loss, accuracy =model.evaluate(test_dataset)\n",
    "print(f'Test accuracy: {accuracy}\\nTest loss: {loss}')"
   ]
  }
 ],
 "metadata": {
  "colab": {
   "name": "ML-Fake_news_classifier.ipynb",
   "provenance": []
  },
  "kernelspec": {
   "display_name": "Tensorflow 2.8.0/Keras Py3.9",
   "language": "python",
   "name": "tensorflow-2.8.0"
  },
  "language_info": {
   "codemirror_mode": {
    "name": "ipython",
    "version": 3
   },
   "file_extension": ".py",
   "mimetype": "text/x-python",
   "name": "python",
   "nbconvert_exporter": "python",
   "pygments_lexer": "ipython3",
   "version": "3.9.10"
  }
 },
 "nbformat": 4,
 "nbformat_minor": 4
}
