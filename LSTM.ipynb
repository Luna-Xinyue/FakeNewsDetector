{
 "cells": [
  {
   "cell_type": "code",
   "execution_count": 1,
   "metadata": {
    "id": "-WGDcLNqFzHv"
   },
   "outputs": [],
   "source": [
    "import keras\n",
    "import pandas as pd\n",
    "import numpy as np\n",
    "import sklearn\n",
    "import tensorflow as tf\n",
    "import matplotlib.pyplot as plt"
   ]
  },
  {
   "cell_type": "code",
   "execution_count": 3,
   "metadata": {
    "id": "ofv3AqeSXdZd"
   },
   "outputs": [],
   "source": [
    "\n",
    "df = pd.read_csv('./fake_or_real_news.csv')\n",
    "df['merged_text'] = df['title'] + '. ' + df['text']\n",
    "df.loc[df['label'] == 'REAL', 'target'] = 0\n",
    "df.loc[df['label'] == 'FAKE', 'target'] = 1\n",
    "df.head()\n",
    "df_pick = df[['merged_text', 'target']]"
   ]
  },
  {
   "cell_type": "markdown",
   "metadata": {
    "id": "ZJExr93g4X59"
   },
   "source": [
    "1. Load data as train and test data.   \n",
    "  a. add Title to text and create final text, label ordered pair.  \n",
    "  b. Split 80-20 into train and test datasets."
   ]
  },
  {
   "cell_type": "code",
   "execution_count": 4,
   "metadata": {
    "colab": {
     "base_uri": "https://localhost:8080/"
    },
    "id": "lp4-B9o_6rPW",
    "outputId": "b2d5e96c-113a-488f-f9ec-dc3ed8d3bc71"
   },
   "outputs": [
    {
     "name": "stdout",
     "output_type": "stream",
     "text": [
      "(5068, 2)\n",
      "(1267, 2)\n"
     ]
    }
   ],
   "source": [
    "training_data = df_pick.sample(frac=0.8, random_state=25)\n",
    "testing_data = df_pick.drop(training_data.index)\n",
    "\n",
    "print(training_data.shape)\n",
    "print(testing_data.shape)"
   ]
  },
  {
   "cell_type": "code",
   "execution_count": 5,
   "metadata": {
    "id": "npoLaaKP4tWF"
   },
   "outputs": [
    {
     "name": "stderr",
     "output_type": "stream",
     "text": [
      "2022-04-10 10:50:41.579624: I tensorflow/core/platform/cpu_feature_guard.cc:151] This TensorFlow binary is optimized with oneAPI Deep Neural Network Library (oneDNN) to use the following CPU instructions in performance-critical operations:  AVX2 FMA\n",
      "To enable them in other operations, rebuild TensorFlow with the appropriate compiler flags.\n",
      "2022-04-10 10:50:43.461586: I tensorflow/core/common_runtime/gpu/gpu_device.cc:1525] Created device /job:localhost/replica:0/task:0/device:GPU:0 with 10788 MB memory:  -> device: 0, name: Tesla K80, pci bus id: 0000:88:00.0, compute capability: 3.7\n"
     ]
    }
   ],
   "source": [
    "training_dataset = (\n",
    "    tf.data.Dataset.from_tensor_slices(\n",
    "        (\n",
    "            tf.cast(training_data['merged_text'].values, tf.string),\n",
    "            tf.cast(training_data['target'].values, tf.int32)\n",
    "        )\n",
    "    )\n",
    ")\n",
    "\n",
    "test_dataset = (\n",
    "    tf.data.Dataset.from_tensor_slices(\n",
    "        (\n",
    "            tf.cast(testing_data['merged_text'].values, tf.string),\n",
    "            tf.cast(testing_data['target'].values, tf.int32)\n",
    "        )\n",
    "    )\n",
    ")\n",
    "BUFFER_SIZE = 10000\n",
    "BATCH_SIZE = 4\n",
    "training_dataset = training_dataset.shuffle(BUFFER_SIZE).batch(BATCH_SIZE).prefetch(tf.data.AUTOTUNE)\n",
    "test_dataset = test_dataset.batch(BATCH_SIZE).prefetch(tf.data.AUTOTUNE)"
   ]
  },
  {
   "cell_type": "code",
   "execution_count": 6,
   "metadata": {
    "colab": {
     "base_uri": "https://localhost:8080/"
    },
    "id": "4fiwWQ21AaWN",
    "outputId": "aadf6bd4-1766-4eb5-aafe-63009480640f"
   },
   "outputs": [
    {
     "name": "stdout",
     "output_type": "stream",
     "text": [
      "texts:  [b'Culture War \\xe2\\x80\\x93 The \\xe2\\x80\\x98Have Mores\\xe2\\x80\\x99 Mock DAPL Protectors for Halloween. Waking Times \\nMore evidence emerges that a culture war, or class war, is brewing between the 99% and the 1%, between the \\xe2\\x80\\x98Have-Mores\\xe2\\x80\\x99 and the \\xe2\\x80\\x98Have-Nots.\\xe2\\x80\\x99 Or, more truthfully between the middle and lower socio-economic classes who are forced to follow the law and pay taxes, and the elite who are allowed to be absolutely lawless and ruthless in their accumulation of wealth and privilege. \\nIn a speech in 2000 at the Al Smith Dinner for charity , the same event that recently hosted presidential candidates Trump and Clinton together, former President George W. Bush reminded us who the political elite works for in this nation, and in the world at large. \\n\\xe2\\x80\\x9cThis is an impressive crowd. The haves and the have mores. Some people call you the elite. I call you my base\\xe2\\x80\\x9d ~George W. Bush \\nThis sort of trickle-down mentality of disdain for the middle classes has not since the days of monarchs been as visible as it is today in 2016. The 1% are doing the most insane things with the wealth that is being stolen from the rest of us by way of collusion between corrupt government and the want-all banking cabal, and sadly, this mentality is being bred into succeeding generations of the entitled. \\nIndigenous activists accompanied by sympathizers from all walks of life are being beaten, tazed, gassed, bitten, and shot at by a front line of private security, police, and national guard on the Standing Rock Indian Reservation in North Dakota. Their efforts to oppress the people who live on this land, who have for generations buried their ancestors here, are backed by a court system which is actively targeting sympathetic journalists who dare to expose this living tyranny. The politicians on high in Congress and the White House are committed to silence in support of the financial interests of the pipeline project . READ: This is the Man Militarized Police at Standing Rock are Working For \\nAs reported by Vincent Schilling of Indian Country Today , Halloween is being celebrated by the \\xe2\\x80\\x98Have Mores\\xe2\\x80\\x99 in North Dakota this year, and some apparently find it entertaining to mock the \\xe2\\x80\\x98Water is Life\\xe2\\x80\\x99 struggle of the Sioux people whose native treaty lands have been invaded in recent months by the oil cartel backed by militarized police. \\n\\xe2\\x80\\x9cIn the midst of the struggles faced by Native people on the frontlines of NoDAPL, some individuals have taken to social media, posting pictures of themselves in Native American \\xe2\\x80\\x9cNoDAPL\\xe2\\x80\\x9d Halloween costumes. In one photo, two girls wearing feathers and shirts with #NoDAPL are in a liquor store holding beers while another couple posed with makeshift costumes holding a bottle of wine, also holding #NoDAPL signs. In the post with the two girls, which appears to have been taken from Snapchat, one of the signs reads, \\xe2\\x80\\x9cI Godda Job, I\\xe2\\x80\\x99m a Water Pertecter.\\xe2\\x80\\x9d The caption on the screen captured image says, \\xe2\\x80\\x9cLet\\xe2\\x80\\x99s start a riot!\\xe2\\x80\\x9d The woman on the left of the photo has what appears to be chains on her ankle.\\xe2\\x80\\x9d [ Source ] In another photo, a couple is seen in mock Indian garb, ready to get drunk on the high vibes of ignorance and disrespect. \\nThe photos are of North Dakota, and it\\xe2\\x80\\x99s worth mentioning the original route of the Dakota Access pipeline was slated to carry the oil just 10 miles north of Bismarck, N.D., however, residents in these areas were able to avert pipeline construction in this area, citing environmental concerns. \\n\\xe2\\x80\\x9cAn early proposal for the Dakota Access Pipeline called for the project to cross the Missouri River north of Bismarck, but one reason that route was rejected was its potential threat to Bismarck\\xe2\\x80\\x99s water supply, documents show.\\xe2\\x80\\x9d \\nAs reported by MPR News on September 13th, 2016: \\n\\xe2\\x80\\x9cThe Dakota Access Pipeline was originally proposed to run about 10 miles north of Bismarck, N.D., crossing the Missouri River. This route was rejected in the Corps\\xe2\\x80\\x99 environmental assessment due to its close proximity to source water protection areas, multiple conservation easements and residential areas \\xe2\\x80\\x94 the North Dakota Public Service Commission has a 500-foot residential buffer requirement.\\xe2\\x80\\x9d \\nIn other words, residents of Bismarck were able to stop this pipeline from being built in their backyards, and some now find the same struggle by the Sioux people worthy of ridicule, further amplifying the cultural differences between groups of people who depend upon the same resources for survival. The Culture War is First and Foremost the Economic War \\nSuch disconnectedness and such disrespect for the struggle against corporate ownership of the land and water that sustains all life on human earth is a sad trend , but it\\xe2\\x80\\x99s important to understand that the brewing culture war has its roots in the financial tyranny that has gripped planet earth. We are all being raped by an emerging global corporate scheme of government that derives its power from manipulation of the money supply through a private banking system that is not accountable to any electorate, nor to the rule of law. \\nAs such, the inevitable outcome is a culture war, where those who value life and have respect for the natural world will be pitched in conflict with the entitled and belligerent 1% whose continued entitlement increasingly depends upon the protective shield of violence gained from the deployment of a radically militarized police state who serves not the people. Read more articles by Dylan Charles . About the Author \\nDylan Charles is a student and teacher of Shaolin Kung Fu, Tai Chi and Qi Gong, a practitioner of Yoga and Taoist arts, and an activist and idealist passionately engaged in the struggle for a more sustainable and just world for future generations. He is the editor of WakingTimes.com , the proprietor of OffgridOutpost.com , a grateful father and a man who seeks to enlighten others with the power of inspiring information and action. He may be contacted at . This article ( War Brewing as the \\xe2\\x80\\x98Have Mores\\xe2\\x80\\x99 Dress Up as DAPL Protectors for Halloween ) was originally created and published by Waking Times and is published here under a Creative Commons license with attribution to Dylan Charles and WakingTimes.com . It may be re-posted freely with proper attribution, author bio, and this copyright statement. \\n~~ Help Waking Times to raise the vibration by sharing this article with friends and family\\xe2\\x80\\xa6']\n",
      "labels:  [1]\n"
     ]
    }
   ],
   "source": [
    "for example, label in training_dataset.take(1):\n",
    "  print('texts: ', example.numpy()[:1])\n",
    "  print('labels: ', label.numpy()[:1])"
   ]
  },
  {
   "cell_type": "code",
   "execution_count": 7,
   "metadata": {
    "id": "lAJTRJhHAsPe"
   },
   "outputs": [],
   "source": [
    "VOCAB_SIZE = 1000\n",
    "encoder = tf.keras.layers.TextVectorization(\n",
    "    max_tokens=VOCAB_SIZE)\n",
    "encoder.adapt(training_dataset.map(lambda text, label: text))"
   ]
  },
  {
   "cell_type": "code",
   "execution_count": 8,
   "metadata": {
    "colab": {
     "base_uri": "https://localhost:8080/"
    },
    "id": "mVJxYguQA1v5",
    "outputId": "6d09aa12-53b6-4704-b474-2b1713ad1ffb"
   },
   "outputs": [
    {
     "data": {
      "text/plain": [
       "array(['', '[UNK]', 'the', 'to', 'of', 'and', 'a', 'in', 'that', 'is',\n",
       "       'for', 'on', 'as', 'it', 'with', 'he', 'was', 'are', 'be', 'this'],\n",
       "      dtype='<U14')"
      ]
     },
     "execution_count": 8,
     "metadata": {},
     "output_type": "execute_result"
    }
   ],
   "source": [
    "vocab = np.array(encoder.get_vocabulary())\n",
    "vocab[:20]"
   ]
  },
  {
   "cell_type": "code",
   "execution_count": 9,
   "metadata": {
    "colab": {
     "base_uri": "https://localhost:8080/"
    },
    "id": "9Ryr3zYwA-Bv",
    "outputId": "46db1361-806b-4d5a-cdf1-41f884688f24"
   },
   "outputs": [
    {
     "data": {
      "text/plain": [
       "array([[  1, 136,  94, ..., 868,   5,   1],\n",
       "       [  1, 720,   1, ...,   0,   0,   0],\n",
       "       [ 51,   1,   1, ...,   0,   0,   0]])"
      ]
     },
     "execution_count": 9,
     "metadata": {},
     "output_type": "execute_result"
    }
   ],
   "source": [
    "encoded_example = encoder(example)[:3].numpy()\n",
    "encoded_example"
   ]
  },
  {
   "cell_type": "code",
   "execution_count": 10,
   "metadata": {
    "id": "z0deinp1BSHQ"
   },
   "outputs": [],
   "source": [
    "model = tf.keras.Sequential([\n",
    "    encoder,\n",
    "    tf.keras.layers.Embedding(\n",
    "        input_dim=len(encoder.get_vocabulary()),\n",
    "        output_dim=64,\n",
    "        # Use masking to handle the variable sequence lengths\n",
    "        mask_zero=True),\n",
    "    tf.keras.layers.LSTM(64),\n",
    "    tf.keras.layers.Dense(64, activation='relu'),\n",
    "    tf.keras.layers.Dense(1)\n",
    "])"
   ]
  },
  {
   "cell_type": "code",
   "execution_count": 11,
   "metadata": {
    "colab": {
     "base_uri": "https://localhost:8080/"
    },
    "id": "Rf8QaT5SB30N",
    "outputId": "541cbbcc-b2df-4a5f-f46d-b8fed6269a53"
   },
   "outputs": [
    {
     "name": "stderr",
     "output_type": "stream",
     "text": [
      "2022-04-10 10:51:39.295071: I tensorflow/stream_executor/cuda/cuda_dnn.cc:368] Loaded cuDNN version 8101\n"
     ]
    },
    {
     "name": "stdout",
     "output_type": "stream",
     "text": [
      "[0.00307037]\n"
     ]
    }
   ],
   "source": [
    "sample_text = ('The movie was cool. The animation and the graphics '\n",
    "               'were out of this world. I would recommend this movie.')\n",
    "predictions = model.predict(np.array([sample_text]))\n",
    "print(predictions[0])"
   ]
  },
  {
   "cell_type": "code",
   "execution_count": 12,
   "metadata": {
    "id": "LQbcOnB-CN4l"
   },
   "outputs": [],
   "source": [
    "model.compile(loss=tf.keras.losses.BinaryCrossentropy(from_logits=True),\n",
    "              optimizer=tf.keras.optimizers.Adam(1e-4),\n",
    "              metrics=['accuracy'])"
   ]
  },
  {
   "cell_type": "code",
   "execution_count": 14,
   "metadata": {
    "colab": {
     "background_save": true,
     "base_uri": "https://localhost:8080/"
    },
    "id": "YBnAO6vlCovd",
    "outputId": "b65eb1a2-370f-4b3f-e12b-e71df9b91482"
   },
   "outputs": [
    {
     "name": "stdout",
     "output_type": "stream",
     "text": [
      "Epoch 1/10\n",
      "1267/1267 [==============================] - 156s 123ms/step - loss: 0.6325 - accuracy: 0.5852 - val_loss: 0.7011 - val_accuracy: 1.0000\n",
      "Epoch 2/10\n",
      "1267/1267 [==============================] - 150s 119ms/step - loss: 0.4651 - accuracy: 0.7930 - val_loss: 0.0625 - val_accuracy: 1.0000\n",
      "Epoch 3/10\n",
      "1267/1267 [==============================] - 150s 119ms/step - loss: 0.3567 - accuracy: 0.8619 - val_loss: 0.0538 - val_accuracy: 1.0000\n",
      "Epoch 4/10\n",
      "1267/1267 [==============================] - 153s 120ms/step - loss: 0.2965 - accuracy: 0.8875 - val_loss: 0.0830 - val_accuracy: 1.0000\n",
      "Epoch 5/10\n",
      "1267/1267 [==============================] - 148s 117ms/step - loss: 0.3222 - accuracy: 0.8743 - val_loss: 0.3630 - val_accuracy: 1.0000\n",
      "Epoch 6/10\n",
      "1267/1267 [==============================] - 148s 117ms/step - loss: 0.3335 - accuracy: 0.8688 - val_loss: 0.0211 - val_accuracy: 1.0000\n",
      "Epoch 7/10\n",
      "1267/1267 [==============================] - 151s 119ms/step - loss: 0.3329 - accuracy: 0.8605 - val_loss: 0.0274 - val_accuracy: 1.0000\n",
      "Epoch 8/10\n",
      "1267/1267 [==============================] - 149s 118ms/step - loss: 0.2893 - accuracy: 0.8743 - val_loss: 0.0422 - val_accuracy: 1.0000\n",
      "Epoch 9/10\n",
      "1267/1267 [==============================] - 148s 117ms/step - loss: 0.2461 - accuracy: 0.9051 - val_loss: 0.0480 - val_accuracy: 1.0000\n",
      "Epoch 10/10\n",
      "1267/1267 [==============================] - 148s 117ms/step - loss: 0.2471 - accuracy: 0.9011 - val_loss: 0.0472 - val_accuracy: 1.0000\n"
     ]
    }
   ],
   "source": [
    "history = model.fit(training_dataset, epochs=10,\n",
    "                    validation_data=test_dataset,\n",
    "                    validation_steps=1)"
   ]
  },
  {
   "cell_type": "code",
   "execution_count": 15,
   "metadata": {
    "id": "dAy-GDRDttDw"
   },
   "outputs": [],
   "source": [
    "def plot_graphs(history, metric):\n",
    "  plt.plot(history.history[metric])\n",
    "  plt.plot(history.history['val_'+metric], '')\n",
    "  plt.xlabel(\"Epochs\")\n",
    "  plt.ylabel(metric)\n",
    "  plt.legend([metric, 'val_'+metric])"
   ]
  },
  {
   "cell_type": "code",
   "execution_count": 16,
   "metadata": {
    "colab": {
     "base_uri": "https://localhost:8080/",
     "height": 519
    },
    "id": "yovG7KvLtkXy",
    "outputId": "9f2766d9-fbe8-4022-a83b-68e56904564c"
   },
   "outputs": [
    {
     "data": {
      "text/plain": [
       "(0.0, 0.7351459817960858)"
      ]
     },
     "execution_count": 16,
     "metadata": {},
     "output_type": "execute_result"
    },
    {
     "data": {
      "image/png": "[encoded data removed]",
      "text/plain": [
       "<Figure size 1152x576 with 2 Axes>"
      ]
     },
     "metadata": {
      "needs_background": "light"
     },
     "output_type": "display_data"
    }
   ],
   "source": [
    "plt.figure(figsize=(16, 8))\n",
    "plt.subplot(1, 2, 1)\n",
    "plot_graphs(history, 'accuracy')\n",
    "plt.ylim(None, 1)\n",
    "plt.subplot(1, 2, 2)\n",
    "plot_graphs(history, 'loss')\n",
    "plt.ylim(0, None)"
   ]
  }
 ],
 "metadata": {
  "colab": {
   "name": "ML-Fake_news_classifier.ipynb",
   "provenance": []
  },
  "kernelspec": {
   "display_name": "Tensorflow 2.8.0/Keras Py3.9",
   "language": "python",
   "name": "tensorflow-2.8.0"
  },
  "language_info": {
   "codemirror_mode": {
    "name": "ipython",
    "version": 3
   },
   "file_extension": ".py",
   "mimetype": "text/x-python",
   "name": "python",
   "nbconvert_exporter": "python",
   "pygments_lexer": "ipython3",
   "version": "3.9.10"
  }
 },
 "nbformat": 4,
 "nbformat_minor": 4
}
