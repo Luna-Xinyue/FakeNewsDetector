{
 "cells": [
  {
   "cell_type": "code",
   "execution_count": 1,
   "metadata": {},
   "outputs": [],
   "source": [
    "from numpy.random import seed\n",
    "seed(1)"
   ]
  },
  {
   "cell_type": "code",
   "execution_count": 2,
   "metadata": {},
   "outputs": [
    {
     "name": "stdout",
     "output_type": "stream",
     "text": [
      "Defaulting to user installation because normal site-packages is not writeable\n",
      "Requirement already satisfied: nltk in /home/mbc7bu/.local/lib/python3.9/site-packages (3.7)\n",
      "Requirement already satisfied: click in /usr/local/lib/python3.9/site-packages (from nltk) (8.0.3)\n",
      "Requirement already satisfied: tqdm in /home/mbc7bu/.local/lib/python3.9/site-packages (from nltk) (4.64.0)\n",
      "Requirement already satisfied: regex>=2021.8.3 in /home/mbc7bu/.local/lib/python3.9/site-packages (from nltk) (2022.4.24)\n",
      "Requirement already satisfied: joblib in /usr/local/lib/python3.9/site-packages (from nltk) (1.1.0)\n",
      "\u001b[33mWARNING: You are using pip version 22.0.3; however, version 22.0.4 is available.\n",
      "You should consider upgrading via the '/usr/local/bin/python -m pip install --upgrade pip' command.\u001b[0m\u001b[33m\n",
      "\u001b[0m"
     ]
    }
   ],
   "source": [
    "!pip3 install nltk"
   ]
  },
  {
   "cell_type": "markdown",
   "metadata": {},
   "source": [
    "Note: Due to GPU-related randomness, the training will not be reproducible."
   ]
  },
  {
   "cell_type": "code",
   "execution_count": 3,
   "metadata": {
    "id": "-WGDcLNqFzHv"
   },
   "outputs": [],
   "source": [
    "import keras\n",
    "import pandas as pd\n",
    "import numpy as np\n",
    "import sklearn\n",
    "import time\n",
    "import tensorflow as tf\n",
    "import matplotlib.pyplot as plt\n",
    "tf.random.set_seed(10)\n",
    "from LogisticRegressionModules import pre_processing as stopwords_stemmer"
   ]
  },
  {
   "cell_type": "markdown",
   "metadata": {},
   "source": [
    "#### Load dataset from csv file."
   ]
  },
  {
   "cell_type": "code",
   "execution_count": 4,
   "metadata": {
    "id": "ofv3AqeSXdZd"
   },
   "outputs": [
    {
     "name": "stdout",
     "output_type": "stream",
     "text": [
      "Preprocessing time: 95sec\n"
     ]
    },
    {
     "data": {
      "text/html": [
       "<div>\n",
       "<style scoped>\n",
       "    .dataframe tbody tr th:only-of-type {\n",
       "        vertical-align: middle;\n",
       "    }\n",
       "\n",
       "    .dataframe tbody tr th {\n",
       "        vertical-align: top;\n",
       "    }\n",
       "\n",
       "    .dataframe thead th {\n",
       "        text-align: right;\n",
       "    }\n",
       "</style>\n",
       "<table border=\"1\" class=\"dataframe\">\n",
       "  <thead>\n",
       "    <tr style=\"text-align: right;\">\n",
       "      <th></th>\n",
       "      <th>Unnamed: 0</th>\n",
       "      <th>title</th>\n",
       "      <th>text</th>\n",
       "      <th>label</th>\n",
       "      <th>merged_text</th>\n",
       "      <th>processed_text</th>\n",
       "      <th>target</th>\n",
       "    </tr>\n",
       "  </thead>\n",
       "  <tbody>\n",
       "    <tr>\n",
       "      <th>0</th>\n",
       "      <td>8476</td>\n",
       "      <td>You Can Smell Hillary’s Fear</td>\n",
       "      <td>Daniel Greenfield, a Shillman Journalism Fello...</td>\n",
       "      <td>FAKE</td>\n",
       "      <td>You Can Smell Hillary’s Fear. Daniel Greenfiel...</td>\n",
       "      <td>you can smell hillari ’ fear . daniel greenfie...</td>\n",
       "      <td>1.0</td>\n",
       "    </tr>\n",
       "    <tr>\n",
       "      <th>1</th>\n",
       "      <td>10294</td>\n",
       "      <td>Watch The Exact Moment Paul Ryan Committed Pol...</td>\n",
       "      <td>Google Pinterest Digg Linkedin Reddit Stumbleu...</td>\n",
       "      <td>FAKE</td>\n",
       "      <td>Watch The Exact Moment Paul Ryan Committed Pol...</td>\n",
       "      <td>watch the exact moment paul ryan commit polit ...</td>\n",
       "      <td>1.0</td>\n",
       "    </tr>\n",
       "    <tr>\n",
       "      <th>2</th>\n",
       "      <td>3608</td>\n",
       "      <td>Kerry to go to Paris in gesture of sympathy</td>\n",
       "      <td>U.S. Secretary of State John F. Kerry said Mon...</td>\n",
       "      <td>REAL</td>\n",
       "      <td>Kerry to go to Paris in gesture of sympathy. U...</td>\n",
       "      <td>kerri go pari gestur sympathi . u.s. secretari...</td>\n",
       "      <td>0.0</td>\n",
       "    </tr>\n",
       "    <tr>\n",
       "      <th>3</th>\n",
       "      <td>10142</td>\n",
       "      <td>Bernie supporters on Twitter erupt in anger ag...</td>\n",
       "      <td>— Kaydee King (@KaydeeKing) November 9, 2016 T...</td>\n",
       "      <td>FAKE</td>\n",
       "      <td>Bernie supporters on Twitter erupt in anger ag...</td>\n",
       "      <td>berni support twitter erupt anger dnc : 'we tr...</td>\n",
       "      <td>1.0</td>\n",
       "    </tr>\n",
       "    <tr>\n",
       "      <th>4</th>\n",
       "      <td>875</td>\n",
       "      <td>The Battle of New York: Why This Primary Matters</td>\n",
       "      <td>It's primary day in New York and front-runners...</td>\n",
       "      <td>REAL</td>\n",
       "      <td>The Battle of New York: Why This Primary Matte...</td>\n",
       "      <td>the battl new york : whi thi primari matter . ...</td>\n",
       "      <td>0.0</td>\n",
       "    </tr>\n",
       "  </tbody>\n",
       "</table>\n",
       "</div>"
      ],
      "text/plain": [
       "   Unnamed: 0                                              title  \\\n",
       "0        8476                       You Can Smell Hillary’s Fear   \n",
       "1       10294  Watch The Exact Moment Paul Ryan Committed Pol...   \n",
       "2        3608        Kerry to go to Paris in gesture of sympathy   \n",
       "3       10142  Bernie supporters on Twitter erupt in anger ag...   \n",
       "4         875   The Battle of New York: Why This Primary Matters   \n",
       "\n",
       "                                                text label  \\\n",
       "0  Daniel Greenfield, a Shillman Journalism Fello...  FAKE   \n",
       "1  Google Pinterest Digg Linkedin Reddit Stumbleu...  FAKE   \n",
       "2  U.S. Secretary of State John F. Kerry said Mon...  REAL   \n",
       "3  — Kaydee King (@KaydeeKing) November 9, 2016 T...  FAKE   \n",
       "4  It's primary day in New York and front-runners...  REAL   \n",
       "\n",
       "                                         merged_text  \\\n",
       "0  You Can Smell Hillary’s Fear. Daniel Greenfiel...   \n",
       "1  Watch The Exact Moment Paul Ryan Committed Pol...   \n",
       "2  Kerry to go to Paris in gesture of sympathy. U...   \n",
       "3  Bernie supporters on Twitter erupt in anger ag...   \n",
       "4  The Battle of New York: Why This Primary Matte...   \n",
       "\n",
       "                                      processed_text  target  \n",
       "0  you can smell hillari ’ fear . daniel greenfie...     1.0  \n",
       "1  watch the exact moment paul ryan commit polit ...     1.0  \n",
       "2  kerri go pari gestur sympathi . u.s. secretari...     0.0  \n",
       "3  berni support twitter erupt anger dnc : 'we tr...     1.0  \n",
       "4  the battl new york : whi thi primari matter . ...     0.0  "
      ]
     },
     "execution_count": 4,
     "metadata": {},
     "output_type": "execute_result"
    }
   ],
   "source": [
    "df = pd.read_csv('./data/fake_or_real_news.csv')\n",
    "df['merged_text'] = df['title'] + '. ' + df['text']\n",
    "\n",
    "preprocessing_time_start = int(time.time())\n",
    "df['processed_text'] = stopwords_stemmer(df['merged_text'])\n",
    "preprocessing_time_end = int(time.time())\n",
    "print(f'Preprocessing time: {preprocessing_time_end-preprocessing_time_start}sec')\n",
    "\n",
    "# For no preprocessing, uncomment below\n",
    "# df['processed_text'] = df['merged_text']\n",
    "\n",
    "df.loc[df['label'] == 'REAL', 'target'] = 0\n",
    "df.loc[df['label'] == 'FAKE', 'target'] = 1\n",
    "\n",
    "df_pick = df[['processed_text', 'target']]\n",
    "df.head()"
   ]
  },
  {
   "cell_type": "markdown",
   "metadata": {
    "id": "ZJExr93g4X59"
   },
   "source": [
    "#### Load data as train and test data.   \n",
    "  a. Add Title to Text and create the final text, label ordered pair.  \n",
    "  b. Split the data 80-20 into train and test datasets."
   ]
  },
  {
   "cell_type": "code",
   "execution_count": 5,
   "metadata": {
    "colab": {
     "base_uri": "https://localhost:8080/"
    },
    "id": "lp4-B9o_6rPW",
    "outputId": "b2d5e96c-113a-488f-f9ec-dc3ed8d3bc71"
   },
   "outputs": [
    {
     "name": "stdout",
     "output_type": "stream",
     "text": [
      "(5068, 2)\n",
      "(1267, 2)\n"
     ]
    }
   ],
   "source": [
    "training_data = df_pick.sample(frac=0.8, random_state=25)\n",
    "testing_data = df_pick.drop(training_data.index)\n",
    "\n",
    "print(training_data.shape)\n",
    "print(testing_data.shape)"
   ]
  },
  {
   "cell_type": "code",
   "execution_count": 6,
   "metadata": {
    "id": "npoLaaKP4tWF"
   },
   "outputs": [
    {
     "name": "stderr",
     "output_type": "stream",
     "text": [
      "2022-05-08 23:06:33.430023: I tensorflow/core/platform/cpu_feature_guard.cc:151] This TensorFlow binary is optimized with oneAPI Deep Neural Network Library (oneDNN) to use the following CPU instructions in performance-critical operations:  AVX2 FMA\n",
      "To enable them in other operations, rebuild TensorFlow with the appropriate compiler flags.\n",
      "2022-05-08 23:06:35.225381: I tensorflow/core/common_runtime/gpu/gpu_device.cc:1525] Created device /job:localhost/replica:0/task:0/device:GPU:0 with 38397 MB memory:  -> device: 0, name: NVIDIA A100-SXM4-40GB, pci bus id: 0000:90:00.0, compute capability: 8.0\n"
     ]
    }
   ],
   "source": [
    "training_dataset = (\n",
    "    tf.data.Dataset.from_tensor_slices(\n",
    "        (\n",
    "            tf.cast(training_data['processed_text'].values, tf.string),\n",
    "            tf.cast(training_data['target'].values, tf.int32)\n",
    "        )\n",
    "    )\n",
    ")\n",
    "\n",
    "test_dataset = (\n",
    "    tf.data.Dataset.from_tensor_slices(\n",
    "        (\n",
    "            tf.cast(testing_data['processed_text'].values, tf.string),\n",
    "            tf.cast(testing_data['target'].values, tf.int32)\n",
    "        )\n",
    "    )\n",
    ")\n",
    "BUFFER_SIZE = 10000\n",
    "BATCH_SIZE = 8\n",
    "training_dataset = training_dataset.shuffle(BUFFER_SIZE).batch(BATCH_SIZE).prefetch(tf.data.AUTOTUNE)\n",
    "test_dataset = test_dataset.batch(BATCH_SIZE).prefetch(tf.data.AUTOTUNE)"
   ]
  },
  {
   "cell_type": "markdown",
   "metadata": {},
   "source": [
    "This is one training example in the dataset."
   ]
  },
  {
   "cell_type": "code",
   "execution_count": 7,
   "metadata": {
    "colab": {
     "base_uri": "https://localhost:8080/"
    },
    "id": "4fiwWQ21AaWN",
    "outputId": "aadf6bd4-1766-4eb5-aafe-63009480640f"
   },
   "outputs": [
    {
     "name": "stdout",
     "output_type": "stream",
     "text": [
      "texts:  [b'\\xe2\\x80\\x98 peopl europ full fear \\xe2\\x80\\x99 refuge influx . the european union \\xe2\\x80\\x99 sharpen divis spiral refuge crisi broke open thursday two leader strongli disagre public whether asylum-seek threaten \\xe2\\x80\\x9c europ \\xe2\\x80\\x99 christian roots. \\xe2\\x80\\x9d that languag use hungarian prime minist viktor orban warn europ allow mostli muslim famili . a day drown syrian toddler wash turkish coast , anoth european leader retort christian valu demand help less fortun . the furiou exchang \\xe2\\x80\\x94 rare breach e.u. \\xe2\\x80\\x99 buttoned-down decorum \\xe2\\x80\\x94 came hungarian author appar laid trap thousand asylum-seek pack budapest \\xe2\\x80\\x99 central train station day worsen condit outsid station . polic block enter station day allow earli thursday . but refugee-pack train appar bound austrian border came halt west budapest , small town dozen polic offic wait platform . they tri forc peopl train take migrant-process center , threaten chanc make onward western europ . by day \\xe2\\x80\\x99 end , standoff , pack train surround polic migrant refus budg . some passeng receiv medic treatment platform . [ european railway becom ground zero migrant crisi ] orban , hungari \\xe2\\x80\\x99 nationalist leader spearhead attempt turn back migrant , said thursday littl choic seal nation \\xe2\\x80\\x99 border razor wire , soldier high fenc . \\xe2\\x80\\x9c we hungarian full fear , peopl europ full fear , see european leader , among prime minist , abl control situat , \\xe2\\x80\\x9d said brussel raw joint appear european parliament presid martin schulz . orban schulz , veteran politician germani , made attempt paper differ distast . the hungarian leader blame germani crisi , say open-door polici toward syrian asylum-seek propel wave migrant undertak danger journey toward europ \\xe2\\x80\\x99 heart . germani expect 800,000 asylum-seek year , said plan turn away syrian . \\xe2\\x80\\x9c the moral , human thing make clear : \\xe2\\x80\\x98 pleas \\xe2\\x80\\x99 come . whi go turkey europ ? turkey safe countri . stay . it \\xe2\\x80\\x99 riski come , \\xe2\\x80\\x99 \\xe2\\x80\\x9d orban said . hundr thousand peopl flee war syria , iraq afghanistan overwhelm europ \\xe2\\x80\\x99 capac respond recent month , open stark divis . some leader believ world \\xe2\\x80\\x99 largest econom bloc \\xe2\\x80\\x94 vast territori 503 million resid \\xe2\\x80\\x94 capabl accommod refuge . other , includ hungari \\xe2\\x80\\x99 orban , believ contin \\xe2\\x80\\x99 popul far delic state . the divis could threaten basic tenet e.u. , allianc built ash world war ii bid never allow destruct . german chancellor angela merkel said week europ intern border \\xe2\\x80\\x94 key achiev european unif \\xe2\\x80\\x94 could question solut refuge crisi found . he warn split emerg refuge crisi could last damag 28-nation allianc , found spirit consensu burden-shar . \\xe2\\x80\\x9c thi crucial moment european union , \\xe2\\x80\\x9d schulz said . \\xe2\\x80\\x9c a deeper split union risk exclude. \\xe2\\x80\\x9d orban \\xe2\\x80\\x99 fear share mani eastern european nation , push hard attempt requir take asylum-seek . slovakia said accept christian . in estonia , fewer 100 migrant resettl , polic thursday investig suspici early-morn fire dormitori hous victim syria \\xe2\\x80\\x99 war . [ britain take refuge syria would fit subway train ] but concern also extend britain . there , fewer syrian would fit london subway train accept year . british media report thursday prime minist david cameron would soon announc plan take \\xe2\\x80\\x9c thousand \\xe2\\x80\\x9d syrian refuge , strike turnaround leader day earlier said answer crisi simpli take \\xe2\\x80\\x9c \\xe2\\x80\\x9d refuge . elsewher europ , refus brought mount anger leader sympathet grow crowd asylum-seek . \\xe2\\x80\\x9c for christian , \\xe2\\x80\\x99 matter race , religion nation person need repres , \\xe2\\x80\\x9d european council presid donald tusk said thursday , launch orban two met brussel . tusk , former prime minist poland , propos resettl least 100,000 refuge across europ . in franc , presid fran\\xc3\\xa7oi holland said death toddler \\xe2\\x80\\x9c tragedi , \\xe2\\x80\\x99 also call european conscienc . europ made valu principles. \\xe2\\x80\\x9d imag child \\xe2\\x80\\x99 bodi lie facedown partli water turkish beach evok constern around world . holland said reach agreement germani propos mandatori quota equit spread refuge across e.u . some european countri \\xe2\\x80\\x9c shoulder moral oblig , \\xe2\\x80\\x9d said . merkel , meanwhil , said understood everi nation prepar take larg burden countri . but said imposs germani , sweden austria alon continu take vast major incom asylum-seek . \\xe2\\x80\\x9c the geneva convent appli germani also everi state , \\xe2\\x80\\x9d said , refer intern treati requir countri take refuge war . orban vow seal hungari \\xe2\\x80\\x99 border sept. 15 , empow emerg measur expect approv countri \\xe2\\x80\\x99 parliament come day . the measur would give author broad power crack illeg migrat . outsid budapest \\xe2\\x80\\x99 eleg stone-and-glass-front station thursday even , peopl live tent atop worn woolen blanket sprawl across vast public plaza adjac subway concours . tourist carri frame backpack slip station entranc past women cradl babi , men pace anxious children argu avail toy . refuge express keen awar hungari want \\xe2\\x80\\x94 said feel mutual . \\xe2\\x80\\x9c hungari poor countri . they \\xe2\\x80\\x99 give us life \\xe2\\x80\\x99 look . they \\xe2\\x80\\x99 even give us food water , \\xe2\\x80\\x9d said yahya lababidi , tank-top-wear 21-year-old law student northern syrian provinc idlib . \\xe2\\x80\\x9c we want go rich countries. \\xe2\\x80\\x9d lababidi said travel month , pass along \\xe2\\x80\\x9c usual rout \\xe2\\x80\\x9d \\xe2\\x80\\x94 turkey , greec , macedonia serbia \\xe2\\x80\\x94 plan ultim settl netherland . but said tri enter train station budapest five day earlier , polic offic bar path . sinc , \\xe2\\x80\\x99 sleep cold stone plaza . \\xe2\\x80\\x9c i escap war , \\xe2\\x80\\x9d said . \\xe2\\x80\\x9c i thought thing would better this. \\xe2\\x80\\x9d [ as tragedi shock europ , bigger refu\\xc2\\xadge crisi loom middl east ] hungarian leader \\xe2\\x80\\x9c done stir popular sentiment immigr refuge , \\xe2\\x80\\x9d said marta pardavi , co-chair hungarian helsinki committe , group offer legal advic asylum-seek . \\xe2\\x80\\x9c thi becom total divid issu . friendship break this. \\xe2\\x80\\x9d critic european respons said contin \\xe2\\x80\\x99 20th-centuri histori dictatorship war instil sympathi other need . \\xe2\\x80\\x9c we face histor moment , perhap one biggest e.u . face last coupl decad , \\xe2\\x80\\x9d said yve pascouau , director migrat mobil polici brussels-bas european polici center . \\xe2\\x80\\x9c european citizen fled dictatorship war . thi part histori . we \\xe2\\x80\\x99 abl protect elsewher countries. \\xe2\\x80\\x9d witt report budapest . karla adam london contribut report . european railway becom ground zero migrant crisi whi languag use talk refuge matter much e.u . leader show littl uniti ahead emerg conclav refuge']\n",
      "labels:  [0]\n"
     ]
    }
   ],
   "source": [
    "for example, label in training_dataset.take(1):\n",
    "  print('texts: ', example.numpy()[:1])\n",
    "  print('labels: ', label.numpy()[:1])"
   ]
  },
  {
   "cell_type": "markdown",
   "metadata": {},
   "source": [
    "#### Define the Encoder layer"
   ]
  },
  {
   "cell_type": "markdown",
   "metadata": {},
   "source": [
    "Note VOCAB_SIZE is a hyper-parameter. This layer will encode the input text as a sequence of integers indicating their indices in the vocabulary."
   ]
  },
  {
   "cell_type": "code",
   "execution_count": 8,
   "metadata": {
    "id": "lAJTRJhHAsPe"
   },
   "outputs": [],
   "source": [
    "VOCAB_SIZE = 2000\n",
    "encoder = tf.keras.layers.TextVectorization(max_tokens=VOCAB_SIZE)\n",
    "encoder.adapt(training_dataset.map(lambda text, label: text))"
   ]
  },
  {
   "cell_type": "code",
   "execution_count": 10,
   "metadata": {
    "colab": {
     "base_uri": "https://localhost:8080/"
    },
    "id": "9Ryr3zYwA-Bv",
    "outputId": "46db1361-806b-4d5a-cdf1-41f884688f24"
   },
   "outputs": [
    {
     "data": {
      "text/plain": [
       "array([[ 125,   15,  758, ...,  684,    1, 1061],\n",
       "       [   1,    1,  711, ...,    0,    0,    0],\n",
       "       [ 682, 1211,    1, ...,    0,    0,    0]])"
      ]
     },
     "execution_count": 10,
     "metadata": {},
     "output_type": "execute_result"
    }
   ],
   "source": [
    "encoded_example = encoder(example)[:3].numpy()\n",
    "encoded_example"
   ]
  },
  {
   "cell_type": "markdown",
   "metadata": {},
   "source": [
    "### Specify the model architecture\n",
    "Layers:\n",
    "1. Encoder\n",
    "2. Embedding\n",
    "3. LSTM\n",
    "4. Dense layer\n",
    "5. Output layer"
   ]
  },
  {
   "cell_type": "code",
   "execution_count": 11,
   "metadata": {
    "id": "z0deinp1BSHQ"
   },
   "outputs": [],
   "source": [
    "model = tf.keras.Sequential([\n",
    "    encoder,\n",
    "    tf.keras.layers.Embedding(\n",
    "        input_dim=len(encoder.get_vocabulary()),\n",
    "        output_dim=64,\n",
    "        mask_zero=True),\n",
    "    tf.keras.layers.LSTM(64),\n",
    "    tf.keras.layers.Dense(64, activation='relu'),\n",
    "    tf.keras.layers.Dense(1)\n",
    "])"
   ]
  },
  {
   "cell_type": "markdown",
   "metadata": {},
   "source": [
    "Trying out a sample text on untrained model."
   ]
  },
  {
   "cell_type": "code",
   "execution_count": 12,
   "metadata": {
    "colab": {
     "base_uri": "https://localhost:8080/"
    },
    "id": "Rf8QaT5SB30N",
    "outputId": "541cbbcc-b2df-4a5f-f46d-b8fed6269a53"
   },
   "outputs": [
    {
     "name": "stderr",
     "output_type": "stream",
     "text": [
      "2022-05-08 23:06:40.710252: I tensorflow/stream_executor/cuda/cuda_dnn.cc:368] Loaded cuDNN version 8101\n"
     ]
    },
    {
     "name": "stdout",
     "output_type": "stream",
     "text": [
      "[0.00121727]\n"
     ]
    },
    {
     "name": "stderr",
     "output_type": "stream",
     "text": [
      "2022-05-08 23:06:43.405520: I tensorflow/stream_executor/cuda/cuda_blas.cc:1786] TensorFloat-32 will be used for the matrix multiplication. This will only be logged once.\n"
     ]
    }
   ],
   "source": [
    "sample_text = ('''Poll: 71 percent of Dems think Clinton should keep running even if indicted. A strong majority of Democratic voters think Hillary \n",
    "               Clinton should keep running for president even if she is charged with \n",
    "               a felony in connection with her private email use while secretary of state, according to a new poll.''')\n",
    "predictions = model.predict(np.array([sample_text]))\n",
    "print(predictions[0])"
   ]
  },
  {
   "cell_type": "code",
   "execution_count": 13,
   "metadata": {},
   "outputs": [],
   "source": [
    "import keras.backend as K\n",
    "def f1_score(y_true, y_pred): #taken from old keras source code\n",
    "    true_positives = K.sum(K.round(K.clip(y_true * y_pred, 0, 1)))\n",
    "    possible_positives = K.sum(K.round(K.clip(y_true, 0, 1)))\n",
    "    predicted_positives = K.sum(K.round(K.clip(y_pred, 0, 1)))\n",
    "    precision = true_positives / (predicted_positives + K.epsilon())\n",
    "    recall = true_positives / (possible_positives + K.epsilon())\n",
    "    f1_val = 2*(precision*recall)/(precision+recall+K.epsilon())\n",
    "    return f1_val"
   ]
  },
  {
   "cell_type": "markdown",
   "metadata": {},
   "source": [
    "### Training the model with Early Stopping\n",
    "First, we specify the loss, optimizer, and metrics for the training phase."
   ]
  },
  {
   "cell_type": "code",
   "execution_count": 14,
   "metadata": {
    "id": "LQbcOnB-CN4l"
   },
   "outputs": [],
   "source": [
    "model.compile(loss=tf.keras.losses.BinaryCrossentropy(from_logits=True), \n",
    "              optimizer=tf.keras.optimizers.Adam(1e-4),\n",
    "              metrics=['accuracy', f1_score])"
   ]
  },
  {
   "cell_type": "markdown",
   "metadata": {},
   "source": [
    "To implement Early Stopping, we monitor the Validation Accuracy and do not stop training unless it doesn't increase above current highest for 7 epochs. Once it has stopped, we restore the model to its best weights according to the validation accuracy."
   ]
  },
  {
   "cell_type": "code",
   "execution_count": 15,
   "metadata": {
    "colab": {
     "background_save": true,
     "base_uri": "https://localhost:8080/"
    },
    "id": "YBnAO6vlCovd",
    "outputId": "b65eb1a2-370f-4b3f-e12b-e71df9b91482"
   },
   "outputs": [
    {
     "name": "stdout",
     "output_type": "stream",
     "text": [
      "Epoch 1/20\n",
      "634/634 [==============================] - 31s 43ms/step - loss: 0.6446 - accuracy: 0.5584 - f1_score: 0.2092 - val_loss: 0.4671 - val_accuracy: 0.7877 - val_f1_score: 0.7596\n",
      "Epoch 2/20\n",
      "634/634 [==============================] - 26s 41ms/step - loss: 0.4231 - accuracy: 0.8264 - f1_score: 0.8120 - val_loss: 0.4260 - val_accuracy: 0.8650 - val_f1_score: 0.8254\n",
      "Epoch 3/20\n",
      "634/634 [==============================] - 26s 42ms/step - loss: 0.3757 - accuracy: 0.8573 - f1_score: 0.8471 - val_loss: 0.3949 - val_accuracy: 0.8303 - val_f1_score: 0.8225\n",
      "Epoch 4/20\n",
      "634/634 [==============================] - 26s 42ms/step - loss: 0.3359 - accuracy: 0.8830 - f1_score: 0.8659 - val_loss: 0.3436 - val_accuracy: 0.8642 - val_f1_score: 0.8506\n",
      "Epoch 5/20\n",
      "634/634 [==============================] - 26s 41ms/step - loss: 0.2757 - accuracy: 0.9067 - f1_score: 0.8968 - val_loss: 0.2676 - val_accuracy: 0.9108 - val_f1_score: 0.8908\n",
      "Epoch 6/20\n",
      "634/634 [==============================] - 26s 41ms/step - loss: 0.2385 - accuracy: 0.9185 - f1_score: 0.9032 - val_loss: 0.2787 - val_accuracy: 0.8974 - val_f1_score: 0.8776\n",
      "Epoch 7/20\n",
      "634/634 [==============================] - 26s 42ms/step - loss: 0.2150 - accuracy: 0.9335 - f1_score: 0.9177 - val_loss: 0.2406 - val_accuracy: 0.9258 - val_f1_score: 0.9012\n",
      "Epoch 8/20\n",
      "634/634 [==============================] - 26s 42ms/step - loss: 0.1794 - accuracy: 0.9438 - f1_score: 0.9272 - val_loss: 0.2162 - val_accuracy: 0.9227 - val_f1_score: 0.9019\n",
      "Epoch 9/20\n",
      "634/634 [==============================] - 26s 41ms/step - loss: 0.2226 - accuracy: 0.9144 - f1_score: 0.8904 - val_loss: 0.2547 - val_accuracy: 0.8911 - val_f1_score: 0.8528\n",
      "Epoch 10/20\n",
      "634/634 [==============================] - 26s 41ms/step - loss: 0.1821 - accuracy: 0.9337 - f1_score: 0.9194 - val_loss: 0.2151 - val_accuracy: 0.9203 - val_f1_score: 0.8954\n",
      "Epoch 11/20\n",
      "634/634 [==============================] - 27s 42ms/step - loss: 0.1306 - accuracy: 0.9562 - f1_score: 0.9480 - val_loss: 0.2253 - val_accuracy: 0.9211 - val_f1_score: 0.9018\n",
      "Epoch 12/20\n",
      "634/634 [==============================] - 26s 41ms/step - loss: 0.1128 - accuracy: 0.9657 - f1_score: 0.9590 - val_loss: 0.2106 - val_accuracy: 0.9298 - val_f1_score: 0.9080\n",
      "Epoch 13/20\n",
      "634/634 [==============================] - 26s 41ms/step - loss: 0.0993 - accuracy: 0.9728 - f1_score: 0.9649 - val_loss: 0.2160 - val_accuracy: 0.9313 - val_f1_score: 0.9064\n",
      "Epoch 14/20\n",
      "634/634 [==============================] - 26s 41ms/step - loss: 0.1160 - accuracy: 0.9637 - f1_score: 0.9537 - val_loss: 0.2394 - val_accuracy: 0.9203 - val_f1_score: 0.8982\n",
      "Epoch 15/20\n",
      "634/634 [==============================] - 26s 41ms/step - loss: 0.0911 - accuracy: 0.9730 - f1_score: 0.9654 - val_loss: 0.2286 - val_accuracy: 0.9290 - val_f1_score: 0.9023\n",
      "Epoch 16/20\n",
      "634/634 [==============================] - 26s 41ms/step - loss: 0.1300 - accuracy: 0.9633 - f1_score: 0.9484 - val_loss: 0.2156 - val_accuracy: 0.9258 - val_f1_score: 0.9026\n",
      "Epoch 17/20\n",
      "634/634 [==============================] - 26s 41ms/step - loss: 0.1041 - accuracy: 0.9700 - f1_score: 0.9565 - val_loss: 0.2536 - val_accuracy: 0.9108 - val_f1_score: 0.8887\n",
      "Epoch 18/20\n",
      "634/634 [==============================] - 26s 42ms/step - loss: 0.0741 - accuracy: 0.9795 - f1_score: 0.9697 - val_loss: 0.2708 - val_accuracy: 0.9108 - val_f1_score: 0.8916\n",
      "Epoch 19/20\n",
      "634/634 [==============================] - 26s 42ms/step - loss: 0.0661 - accuracy: 0.9811 - f1_score: 0.9721 - val_loss: 0.2621 - val_accuracy: 0.9163 - val_f1_score: 0.8947\n",
      "Epoch 20/20\n",
      "634/634 [==============================] - 26s 41ms/step - loss: 0.0898 - accuracy: 0.9724 - f1_score: 0.9634 - val_loss: 0.2465 - val_accuracy: 0.9195 - val_f1_score: 0.8947\n"
     ]
    }
   ],
   "source": [
    "callback = tf.keras.callbacks.EarlyStopping(monitor='val_accuracy', patience=7, restore_best_weights=True)\n",
    "history = model.fit(training_dataset, epochs=20, callbacks = [callback],\n",
    "                    validation_data=test_dataset)"
   ]
  },
  {
   "cell_type": "markdown",
   "metadata": {},
   "source": [
    "### Results"
   ]
  },
  {
   "cell_type": "code",
   "execution_count": 16,
   "metadata": {
    "id": "dAy-GDRDttDw"
   },
   "outputs": [],
   "source": [
    "def plot_graphs(history, metric):\n",
    "    \"\"\"Utility function to plot the graphs\"\"\"\n",
    "    plt.plot(history.history[metric])\n",
    "    plt.plot(history.history['val_'+metric], '')\n",
    "    plt.xlabel(\"Epochs\")\n",
    "    plt.ylabel(metric)\n",
    "    plt.legend([metric, 'val_'+metric])"
   ]
  },
  {
   "cell_type": "markdown",
   "metadata": {},
   "source": [
    "The plots below show the training accuracy and loss alongside the validation (here, validation set is the test set itself) accuracy and loss, plotted against the epoch number."
   ]
  },
  {
   "cell_type": "code",
   "execution_count": 17,
   "metadata": {
    "colab": {
     "base_uri": "https://localhost:8080/",
     "height": 519
    },
    "id": "yovG7KvLtkXy",
    "outputId": "9f2766d9-fbe8-4022-a83b-68e56904564c"
   },
   "outputs": [
    {
     "data": {
      "image/png": "[encoded data removed]",
      "text/plain": [
       "<Figure size 1152x576 with 2 Axes>"
      ]
     },
     "metadata": {
      "needs_background": "light"
     },
     "output_type": "display_data"
    }
   ],
   "source": [
    "plt.figure(figsize=(16, 8))\n",
    "plt.subplot(1, 2, 1)\n",
    "plot_graphs(history, 'accuracy')\n",
    "plt.ylim(None, 1)\n",
    "plt.subplot(1, 2, 2)\n",
    "plot_graphs(history, 'loss')\n",
    "plt.ylim(0, None)\n",
    "plt.savefig('plots/LSTM/LSTM_training_with_preprocessing')"
   ]
  },
  {
   "cell_type": "markdown",
   "metadata": {},
   "source": [
    "### Test Accuracy and F1-Score of the trained LSTM classifier."
   ]
  },
  {
   "cell_type": "code",
   "execution_count": 18,
   "metadata": {},
   "outputs": [
    {
     "name": "stdout",
     "output_type": "stream",
     "text": [
      "159/159 [==============================] - 2s 16ms/step - loss: 0.2160 - accuracy: 0.9313 - f1_score: 0.9064\n",
      "No Preprocessing-----------\n",
      "Test accuracy: 0.9313338398933411\n",
      "Test loss: 0.21601064503192902\n",
      "Test F1-score:0.9063785076141357\n"
     ]
    }
   ],
   "source": [
    "loss, accuracy, f1_score =model.evaluate(test_dataset)\n",
    "results = dict(loss = loss, accuracy=accuracy, f1_score=f1_score)\n",
    "import pickle\n",
    "with open('outputs/LSTM_results_with_preprocessing.pkl', 'wb') as fout:\n",
    "    pickle.dump(results, fout)\n",
    "print(f'Test accuracy: {accuracy}\\nTest loss: {loss}\\nTest F1-score:{f1_score}')"
   ]
  }
 ],
 "metadata": {
  "colab": {
   "name": "ML-Fake_news_classifier.ipynb",
   "provenance": []
  },
  "kernelspec": {
   "display_name": "Python 3 (ipykernel)",
   "language": "python",
   "name": "python3"
  },
  "language_info": {
   "codemirror_mode": {
    "name": "ipython",
    "version": 3
   },
   "file_extension": ".py",
   "mimetype": "text/x-python",
   "name": "python",
   "nbconvert_exporter": "python",
   "pygments_lexer": "ipython3",
   "version": "3.9.7"
  }
 },
 "nbformat": 4,
 "nbformat_minor": 4
}
